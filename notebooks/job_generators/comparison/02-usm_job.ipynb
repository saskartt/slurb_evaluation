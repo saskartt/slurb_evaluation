{
 "cells": [
  {
   "cell_type": "markdown",
   "metadata": {},
   "source": [
    "# Prepare USM job for model comparison\n",
    "\n",
    "For USM, one nested setup down to 2 metre resolution is created.\n"
   ]
  },
  {
   "cell_type": "code",
   "execution_count": null,
   "metadata": {},
   "outputs": [],
   "source": [
    "%load_ext dotenv\n",
    "%dotenv\n",
    "%load_ext autoreload\n",
    "%autoreload 2"
   ]
  },
  {
   "cell_type": "code",
   "execution_count": null,
   "metadata": {},
   "outputs": [],
   "source": [
    "from pathlib import Path\n",
    "from src.config import get_config, get_dask_cluster\n",
    "\n",
    "config = get_config()\n",
    "cluster, client = get_dask_cluster(config)"
   ]
  },
  {
   "cell_type": "code",
   "execution_count": null,
   "metadata": {},
   "outputs": [],
   "source": [
    "import xarray as xr\n",
    "import numpy as np\n",
    "import scipy.ndimage\n",
    "\n",
    "from src.job_generation import (\n",
    "    Job,\n",
    "    read_namelist,\n",
    "    Driver,\n",
    "    JobNest,\n",
    "    update_dict_recursive,\n",
    "    apply_buffer_to_usm_driver,\n",
    "    set_initial_soil_conditions_from_precursor,\n",
    "    set_surface_pressure_to_dynamic,\n",
    ")"
   ]
  },
  {
   "cell_type": "markdown",
   "metadata": {},
   "source": [
    "## Prepare job objects\n",
    "\n",
    "Unlike with the SLUrb job, the USM job is a hybrid of top-down and bottom-up construction. The detailed building map is downsampled from the original resolution for the coarser jobs, whilst the surrounding vegetation is upsampled from the coarse resolution.\n"
   ]
  },
  {
   "cell_type": "code",
   "execution_count": null,
   "metadata": {},
   "outputs": [],
   "source": [
    "job_usm = Job(\"slurb_c_usm\")\n",
    "job_usm.p3d = read_namelist(\n",
    "    Path(config.path.experiments.comparison) / \"shared_coarse_p3d.yml\"\n",
    ")\n",
    "update_dict_recursive(\n",
    "    job_usm.p3d,\n",
    "    read_namelist(Path(config.path.experiments.comparison) / \"usm_coarse_p3d.yml\"),\n",
    ")\n",
    "\n",
    "job_usm.p3dr = job_usm.p3d.copy()\n",
    "job_usm.p3dr[\"initialization_parameters\"][\"initializing_actions\"] = \"read_restart_data\""
   ]
  },
  {
   "cell_type": "markdown",
   "metadata": {},
   "source": [
    "### Load surface configuration shared by the cases\n"
   ]
  },
  {
   "cell_type": "code",
   "execution_count": null,
   "metadata": {},
   "outputs": [],
   "source": [
    "lcz_map = xr.open_dataset(Path(config.path.data.raw) / \"lcz\" / \"lcz_map.nc\")[\"lcz\"]\n",
    "usm_driver = xr.open_dataset(Path(config.path.data.raw) / \"lcz\" / \"USM_lcz_fine.nc\")"
   ]
  },
  {
   "cell_type": "markdown",
   "metadata": {},
   "source": [
    "Apply buffer zones to USM driver and offset coordinates to origin of the coarse domain.\n"
   ]
  },
  {
   "cell_type": "code",
   "execution_count": null,
   "metadata": {},
   "outputs": [],
   "source": [
    "usm_driver, urban_mask = apply_buffer_to_usm_driver(usm_driver, buffer=32)\n",
    "usm_driver[\"x\"] = usm_driver[\"x\"] + 2368\n",
    "usm_driver[\"y\"] = usm_driver[\"y\"] + 1280\n",
    "urban_mask[\"x\"] = urban_mask[\"x\"] + 2368\n",
    "urban_mask[\"y\"] = urban_mask[\"y\"] + 1280"
   ]
  },
  {
   "cell_type": "markdown",
   "metadata": {},
   "source": [
    "To simplify reindexing, use only 2D building map. This doesn't make a difference as there are no overhanging structures. Furthermore, drop all parameter inputs, these will be set using user code interface to exact same values as in SLUrb run.\n"
   ]
  },
  {
   "cell_type": "code",
   "execution_count": null,
   "metadata": {},
   "outputs": [],
   "source": [
    "usm_driver"
   ]
  },
  {
   "cell_type": "code",
   "execution_count": null,
   "metadata": {},
   "outputs": [],
   "source": [
    "usm_driver = usm_driver.drop_vars(\n",
    "    [\"buildings_3d\", \"building_pars\", \"street_crossing\", \"street_type\"]\n",
    ")\n",
    "usm_driver = usm_driver.drop_dims([\"z\", \"nbuilding_pars\"])\n",
    "usm_driver[\"vegetation_pars\"][:] = np.nan"
   ]
  },
  {
   "cell_type": "markdown",
   "metadata": {},
   "source": [
    "Fix some inconsistencies in the input, e.g. non-unique building ids.\n"
   ]
  },
  {
   "cell_type": "code",
   "execution_count": null,
   "metadata": {},
   "outputs": [],
   "source": [
    "usm_driver[\"building_id\"][:] = scipy.ndimage.label(\n",
    "    usm_driver[\"buildings_2d\"] > 0.0, output=np.int32\n",
    ")[0]\n",
    "usm_driver[\"building_id\"] = usm_driver[\"building_id\"].where(\n",
    "    usm_driver[\"building_id\"] > 0, other=-9999\n",
    ")\n",
    "usm_driver[\"building_id\"] = usm_driver[\"building_id\"].astype(np.int32)\n",
    "usm_driver[\"building_id\"].attrs[\"_FillValue\"] = -9999\n",
    "usm_driver[\"building_id\"].attrs[\"force_dtype\"] = 1"
   ]
  },
  {
   "cell_type": "code",
   "execution_count": null,
   "metadata": {},
   "outputs": [],
   "source": [
    "usm_driver[\"pavement_type\"] = usm_driver[\"pavement_type\"].where(\n",
    "    usm_driver[\"pavement_type\"] != 1, other=2\n",
    ")\n",
    "usm_driver[\"soil_type\"] = usm_driver[\"soil_type\"].where(\n",
    "    ~np.isnan(usm_driver[\"soil_type\"]), other=2\n",
    ")"
   ]
  },
  {
   "cell_type": "code",
   "execution_count": null,
   "metadata": {},
   "outputs": [],
   "source": [
    "for surf_type in (\n",
    "    \"building_type\",\n",
    "    \"pavement_type\",\n",
    "    \"soil_type\",\n",
    "    \"vegetation_type\",\n",
    "    \"water_type\",\n",
    "):\n",
    "    usm_driver[surf_type] = usm_driver[surf_type].fillna(-127)\n",
    "    usm_driver[surf_type] = usm_driver[surf_type].astype(np.int8)\n",
    "    usm_driver[surf_type].attrs[\"_FillValue\"] = -127"
   ]
  },
  {
   "cell_type": "markdown",
   "metadata": {},
   "source": [
    "Same static input as for SLUrb job is used outside the urban area.\n"
   ]
  },
  {
   "cell_type": "code",
   "execution_count": null,
   "metadata": {},
   "outputs": [],
   "source": [
    "static_template = xr.open_dataset(\n",
    "    Path(config.path.data.jobs) / \"slurb_c_slurb\" / \"INPUT\" / \"slurb_c_slurb_static\"\n",
    ")\n",
    "for surf_type in (\"soil_type\", \"pavement_type\", \"vegetation_type\", \"water_type\"):\n",
    "    static_template[surf_type] = static_template[surf_type].fillna(-127)\n",
    "    static_template[surf_type] = static_template[surf_type].astype(np.int8)\n",
    "    static_template[surf_type].attrs[\"_FillValue\"] = -127"
   ]
  },
  {
   "cell_type": "markdown",
   "metadata": {},
   "source": [
    "## Coarse domain\n"
   ]
  },
  {
   "cell_type": "markdown",
   "metadata": {},
   "source": [
    "### Dynamic driver\n",
    "\n",
    "We reuse the same dynamic driver for the root from the SLUrb setup except for the initial soil temperature and moisture as these will be set only for vegetation patches.\n"
   ]
  },
  {
   "cell_type": "code",
   "execution_count": null,
   "metadata": {},
   "outputs": [],
   "source": [
    "job_usm.register_driver(\"dynamic\", Driver())\n",
    "job_usm.drivers[\"dynamic\"].set_grid(\"uvws\", vertical=True)\n",
    "job_usm.drivers[\"dynamic\"].set_zsoil()\n",
    "job_usm.drivers[\"dynamic\"].ds = xr.open_dataset(\n",
    "    Path(config.path.data.jobs) / \"slurb_c_slurb\" / \"INPUT\" / \"slurb_c_slurb_dynamic\",\n",
    "    chunks={\"time\": \"auto\"},\n",
    ")\n",
    "\n",
    "# Set initial wind speed BC at urban canopy to zero. As the initial wind profile is from\n",
    "# the precursor with all-flat topography, the initial wind speed within the urban canopy would\n",
    "# be unrealistically high.\n",
    "u_init = (\n",
    "    job_usm.drivers[\"dynamic\"]\n",
    "    .ds[\"init_atmosphere_u\"]\n",
    "    .where(job_usm.drivers[\"dynamic\"].ds[\"z\"] >= 24.0, other=0.0)\n",
    ")\n",
    "v_init = (\n",
    "    job_usm.drivers[\"dynamic\"]\n",
    "    .ds[\"init_atmosphere_v\"]\n",
    "    .where(job_usm.drivers[\"dynamic\"].ds[\"z\"] >= 24.0, other=0.0)\n",
    ")\n",
    "wspeed_bc = xr.DataArray([0], dims=[\"z\"], coords={\"z\": [0]})\n",
    "u_init = xr.concat([wspeed_bc, u_init], dim=\"z\", combine_attrs=\"no_conflicts\").compute()\n",
    "v_init = xr.concat([wspeed_bc, v_init], dim=\"z\", combine_attrs=\"no_conflicts\").compute()\n",
    "u_init = u_init.interpolate_na(dim=\"z\", method=\"linear\")\n",
    "v_init = v_init.interpolate_na(dim=\"z\", method=\"linear\")\n",
    "\n",
    "job_usm.drivers[\"dynamic\"].ds[\"init_atmosphere_u\"] = u_init.interp(\n",
    "    z=job_usm.drivers[\"dynamic\"].ds[\"z\"],\n",
    "    method=\"linear\",\n",
    ")\n",
    "job_usm.drivers[\"dynamic\"].ds[\"init_atmosphere_v\"] = v_init.interp(\n",
    "    z=job_usm.drivers[\"dynamic\"].ds[\"z\"],\n",
    "    method=\"linear\",\n",
    ")"
   ]
  },
  {
   "cell_type": "markdown",
   "metadata": {},
   "source": [
    "### Initial material temperatures\n",
    "\n",
    "The USM spinup doesn't model the atmosphere within the urban canopy at all, causing deviation at the initialization. To ensure comparability, we initialize the material temperatures based on SLUrb model spinup. These values are copied to user code for initializasion.\n"
   ]
  },
  {
   "cell_type": "code",
   "execution_count": null,
   "metadata": {},
   "outputs": [],
   "source": [
    "slurb_init_3d = xr.open_dataset(\n",
    "    Path(config.path.data.jobs)\n",
    "    / \"slurb_c_slurb\"\n",
    "    / \"OUTPUT\"\n",
    "    / \"slurb_c_slurb_3d.000.nc\",\n",
    "    decode_times=False,\n",
    ").isel(time=0)\n",
    "\n",
    "print(\n",
    "    f\"\"\"Road: {slurb_init_3d[\"slurb_t_road\"].mean(dim=(\"x\",\"y\")).round(decimals=4).values}\"\"\"\n",
    ")\n",
    "print(\n",
    "    f\"\"\"Roofs: {slurb_init_3d[\"slurb_t_roof\"].mean(dim=(\"x\",\"y\")).round(decimals=4).values}\"\"\"\n",
    ")\n",
    "print(\n",
    "    f\"\"\"Walls: {slurb_init_3d[\"slurb_t_wall_a\"].mean(dim=(\"x\",\"y\")).round(decimals=4).values}\"\"\"\n",
    ")\n",
    "print(\n",
    "    f\"\"\"Windows: {slurb_init_3d[\"slurb_t_win_a\"].mean(dim=(\"x\",\"y\")).round(decimals=4).values}\"\"\"\n",
    ")"
   ]
  },
  {
   "cell_type": "markdown",
   "metadata": {},
   "source": [
    "### Static driver\n",
    "\n",
    "Combine fine-resolution static driver from LCZ generator and the static driver from the SLUrb run.\n"
   ]
  },
  {
   "cell_type": "code",
   "execution_count": null,
   "metadata": {},
   "outputs": [],
   "source": [
    "job_usm.register_driver(\"static\", Driver())\n",
    "job_usm.drivers[\"static\"].set_grid(\"s\", vertical=False)\n",
    "job_usm.drivers[\"static\"].ds = usm_driver.reindex_like(\n",
    "    job_usm.drivers[\"static\"].ds, method=\"nearest\"\n",
    ")\n",
    "for var in static_template.data_vars.keys():\n",
    "    job_usm.drivers[\"static\"].ds[var] = (\n",
    "        job_usm.drivers[\"static\"]\n",
    "        .ds[var]\n",
    "        .where(\n",
    "            urban_mask.reindex_like(\n",
    "                job_usm.drivers[\"static\"].ds[var], method=\"nearest\"\n",
    "            ),\n",
    "            other=static_template[var].reindex_like(\n",
    "                job_usm.drivers[\"static\"].ds[var], method=\"nearest\"\n",
    "            ),\n",
    "        )\n",
    "    )"
   ]
  },
  {
   "cell_type": "markdown",
   "metadata": {},
   "source": [
    "### Initial soil conditions from precursor\n"
   ]
  },
  {
   "cell_type": "code",
   "execution_count": null,
   "metadata": {},
   "outputs": [],
   "source": [
    "pre_3d = xr.open_dataset(\n",
    "    Path(config.path.data.jobs)\n",
    "    / \"slurb_pre_default\"\n",
    "    / \"OUTPUT\"\n",
    "    / \"slurb_pre_default_3d.001.nc\",\n",
    "    decode_times=False,\n",
    ")\n",
    "pre_static = xr.open_dataset(\n",
    "    Path(config.path.data.jobs)\n",
    "    / \"slurb_pre_default\"\n",
    "    / \"INPUT\"\n",
    "    / \"slurb_pre_default_static\"\n",
    ")\n",
    "job_usm.drivers[\"dynamic\"] = set_initial_soil_conditions_from_precursor(\n",
    "    pre_3d,\n",
    "    pre_static[\"vegetation_type\"],\n",
    "    job_usm.drivers[\"dynamic\"],\n",
    "    job_usm.drivers[\"static\"].ds[\"vegetation_type\"],\n",
    ")"
   ]
  },
  {
   "cell_type": "markdown",
   "metadata": {},
   "source": [
    "## Medium-coarse nest\n"
   ]
  },
  {
   "cell_type": "code",
   "execution_count": null,
   "metadata": {},
   "outputs": [],
   "source": [
    "nest_medium_coarse = JobNest(root=job_usm, nest_id=2)"
   ]
  },
  {
   "cell_type": "markdown",
   "metadata": {},
   "source": [
    "### Namelists\n"
   ]
  },
  {
   "cell_type": "code",
   "execution_count": null,
   "metadata": {},
   "outputs": [],
   "source": [
    "nest_medium_coarse.p3d = read_namelist(\n",
    "    Path(config.path.experiments.comparison) / \"shared_medium_coarse_p3d.yml\"\n",
    ")\n",
    "update_dict_recursive(\n",
    "    nest_medium_coarse.p3d,\n",
    "    read_namelist(\n",
    "        Path(config.path.experiments.comparison) / \"usm_medium_coarse_p3d.yml\"\n",
    "    ),\n",
    ")\n",
    "nest_medium_coarse.p3dr = nest_medium_coarse.p3d.copy()\n",
    "nest_medium_coarse.p3dr[\"initialization_parameters\"][\"initializing_actions\"] = (\n",
    "    \"read_restart_data\"\n",
    ")"
   ]
  },
  {
   "cell_type": "markdown",
   "metadata": {},
   "source": [
    "### Static driver\n"
   ]
  },
  {
   "cell_type": "code",
   "execution_count": null,
   "metadata": {},
   "outputs": [],
   "source": [
    "# Refined domain for the medium nest by resampling\n",
    "nest_medium_coarse.register_driver(\"static\", Driver())\n",
    "nest_medium_coarse.drivers[\"static\"].set_grid(\"s\", vertical=False)\n",
    "# Offsetting the coordinates is required for reindex_like\n",
    "nest_medium_coarse.drivers[\"static\"].ds[\"x\"] = (\n",
    "    nest_medium_coarse.drivers[\"static\"].ds[\"x\"]\n",
    "    + job_usm.p3d[\"nesting_parameters\"][\"domain_layouts\"][11]\n",
    ")\n",
    "nest_medium_coarse.drivers[\"static\"].ds[\"y\"] = (\n",
    "    nest_medium_coarse.drivers[\"static\"].ds[\"y\"]\n",
    "    + job_usm.p3d[\"nesting_parameters\"][\"domain_layouts\"][12]\n",
    ")\n",
    "nest_medium_coarse.drivers[\"static\"].ds = usm_driver.reindex_like(\n",
    "    nest_medium_coarse.drivers[\"static\"].ds, method=\"nearest\"\n",
    ")\n",
    "for var in static_template.data_vars.keys():\n",
    "    nest_medium_coarse.drivers[\"static\"].ds[var] = (\n",
    "        nest_medium_coarse.drivers[\"static\"]\n",
    "        .ds[var]\n",
    "        .where(\n",
    "            urban_mask.reindex_like(\n",
    "                nest_medium_coarse.drivers[\"static\"].ds, method=\"nearest\"\n",
    "            ),\n",
    "            other=static_template[var].reindex_like(\n",
    "                nest_medium_coarse.drivers[\"static\"].ds, method=\"nearest\"\n",
    "            ),\n",
    "        )\n",
    "    )\n",
    "nest_medium_coarse.drivers[\"static\"].ds[\"x\"] = (\n",
    "    nest_medium_coarse.drivers[\"static\"].ds[\"x\"]\n",
    "    - job_usm.p3d[\"nesting_parameters\"][\"domain_layouts\"][11]\n",
    ")\n",
    "nest_medium_coarse.drivers[\"static\"].ds[\"y\"] = (\n",
    "    nest_medium_coarse.drivers[\"static\"].ds[\"y\"]\n",
    "    - job_usm.p3d[\"nesting_parameters\"][\"domain_layouts\"][12]\n",
    ")"
   ]
  },
  {
   "cell_type": "markdown",
   "metadata": {},
   "source": [
    "### Dynamic driver\n"
   ]
  },
  {
   "cell_type": "code",
   "execution_count": null,
   "metadata": {},
   "outputs": [],
   "source": [
    "nest_medium_coarse.register_driver(\"dynamic\", Driver())\n",
    "nest_medium_coarse.drivers[\"dynamic\"].set_grid(\"uvws\", vertical=True)\n",
    "nest_medium_coarse.drivers[\"dynamic\"].set_zsoil()\n",
    "\n",
    "nest_medium_coarse.drivers[\"dynamic\"].ds[\"x\"] = (\n",
    "    nest_medium_coarse.drivers[\"dynamic\"].ds[\"x\"]\n",
    "    + job_usm.p3d[\"nesting_parameters\"][\"domain_layouts\"][11]\n",
    ")\n",
    "nest_medium_coarse.drivers[\"dynamic\"].ds[\"y\"] = (\n",
    "    nest_medium_coarse.drivers[\"dynamic\"].ds[\"y\"]\n",
    "    + job_usm.p3d[\"nesting_parameters\"][\"domain_layouts\"][12]\n",
    ")\n",
    "nest_medium_coarse.drivers[\"dynamic\"].ds[\"init_soil_t\"] = (\n",
    "    job_usm.drivers[\"dynamic\"]\n",
    "    .ds[\"init_soil_t\"]\n",
    "    .reindex_like(nest_medium_coarse.drivers[\"dynamic\"].ds, method=\"nearest\")\n",
    ")\n",
    "nest_medium_coarse.drivers[\"dynamic\"].ds[\"init_soil_m\"] = (\n",
    "    job_usm.drivers[\"dynamic\"]\n",
    "    .ds[\"init_soil_m\"]\n",
    "    .reindex_like(nest_medium_coarse.drivers[\"dynamic\"].ds, method=\"nearest\")\n",
    ")\n",
    "nest_medium_coarse.drivers[\"dynamic\"].ds[\"x\"] = (\n",
    "    nest_medium_coarse.drivers[\"dynamic\"].ds[\"x\"]\n",
    "    - job_usm.p3d[\"nesting_parameters\"][\"domain_layouts\"][11]\n",
    ")\n",
    "nest_medium_coarse.drivers[\"dynamic\"].ds[\"y\"] = (\n",
    "    nest_medium_coarse.drivers[\"dynamic\"].ds[\"y\"]\n",
    "    - job_usm.p3d[\"nesting_parameters\"][\"domain_layouts\"][12]\n",
    ")"
   ]
  },
  {
   "cell_type": "code",
   "execution_count": null,
   "metadata": {},
   "outputs": [],
   "source": [
    "nest_medium_coarse.drivers[\"dynamic\"].ds[\"ls_forcing_ug\"] = (\n",
    "    job_usm.drivers[\"dynamic\"]\n",
    "    .ds[\"ls_forcing_ug\"]\n",
    "    .interp(\n",
    "        z=nest_medium_coarse.drivers[\"dynamic\"].ds[\"z\"],\n",
    "        method=\"cubic\",\n",
    "        kwargs={\"fill_value\": \"extrapolate\"},\n",
    "    )\n",
    ")\n",
    "nest_medium_coarse.drivers[\"dynamic\"].ds[\"ls_forcing_vg\"] = (\n",
    "    job_usm.drivers[\"dynamic\"]\n",
    "    .ds[\"ls_forcing_vg\"]\n",
    "    .interp(\n",
    "        z=nest_medium_coarse.drivers[\"dynamic\"].ds[\"z\"],\n",
    "        method=\"cubic\",\n",
    "        kwargs={\"fill_value\": \"extrapolate\"},\n",
    "    )\n",
    ")\n",
    "\n",
    "nest_medium_coarse.drivers[\"dynamic\"].ds[\"init_atmosphere_u\"] = u_init.interp(\n",
    "    z=nest_medium_coarse.drivers[\"dynamic\"].ds[\"z\"],\n",
    "    method=\"linear\",\n",
    ")\n",
    "nest_medium_coarse.drivers[\"dynamic\"].ds[\"init_atmosphere_v\"] = v_init.interp(\n",
    "    z=nest_medium_coarse.drivers[\"dynamic\"].ds[\"z\"],\n",
    "    method=\"linear\",\n",
    ")\n",
    "\n",
    "nest_medium_coarse.drivers[\"dynamic\"].ds[\"init_atmosphere_pt\"] = (\n",
    "    job_usm.drivers[\"dynamic\"]\n",
    "    .ds[\"init_atmosphere_pt\"]\n",
    "    .interp(\n",
    "        z=nest_medium_coarse.drivers[\"dynamic\"].ds[\"z\"],\n",
    "        method=\"cubic\",\n",
    "        kwargs={\"fill_value\": \"extrapolate\"},\n",
    "    )\n",
    ")\n",
    "nest_medium_coarse.drivers[\"dynamic\"].ds[\"init_atmosphere_qv\"] = (\n",
    "    job_usm.drivers[\"dynamic\"]\n",
    "    .ds[\"init_atmosphere_qv\"]\n",
    "    .interp(\n",
    "        z=nest_medium_coarse.drivers[\"dynamic\"].ds[\"z\"],\n",
    "        method=\"cubic\",\n",
    "        kwargs={\"fill_value\": \"extrapolate\"},\n",
    "    )\n",
    ")\n",
    "nest_medium_coarse.drivers[\"dynamic\"].ds[\"init_atmosphere_w\"] = (\n",
    "    job_usm.drivers[\"dynamic\"]\n",
    "    .ds[\"init_atmosphere_w\"]\n",
    "    .interp(\n",
    "        zw=nest_medium_coarse.drivers[\"dynamic\"].ds[\"zw\"],\n",
    "        method=\"cubic\",\n",
    "        kwargs={\"fill_value\": \"extrapolate\"},\n",
    "    )\n",
    ")\n",
    "nest_medium_coarse.drivers[\"dynamic\"] = set_surface_pressure_to_dynamic(\n",
    "    nest_medium_coarse.drivers[\"dynamic\"], p0=1e5\n",
    ")"
   ]
  },
  {
   "cell_type": "code",
   "execution_count": null,
   "metadata": {},
   "outputs": [],
   "source": [
    "nest_medium_coarse.drivers[\"dynamic\"].ds[\"rad_sw_in\"] = job_usm.drivers[\"dynamic\"].ds[\n",
    "    \"rad_sw_in\"\n",
    "]\n",
    "nest_medium_coarse.drivers[\"dynamic\"].ds[\"rad_lw_in\"] = job_usm.drivers[\"dynamic\"].ds[\n",
    "    \"rad_lw_in\"\n",
    "]"
   ]
  },
  {
   "cell_type": "code",
   "execution_count": null,
   "metadata": {},
   "outputs": [],
   "source": [
    "nest_medium_coarse.drivers[\"dynamic\"] = set_initial_soil_conditions_from_precursor(\n",
    "    pre_3d,\n",
    "    pre_static[\"vegetation_type\"],\n",
    "    nest_medium_coarse.drivers[\"dynamic\"],\n",
    "    nest_medium_coarse.drivers[\"static\"].ds[\"vegetation_type\"],\n",
    ")"
   ]
  },
  {
   "cell_type": "markdown",
   "metadata": {},
   "source": [
    "## Medium-fine nest\n"
   ]
  },
  {
   "cell_type": "code",
   "execution_count": null,
   "metadata": {},
   "outputs": [],
   "source": [
    "nest_medium_fine = JobNest(root=job_usm, nest_id=3)"
   ]
  },
  {
   "cell_type": "code",
   "execution_count": null,
   "metadata": {},
   "outputs": [],
   "source": [
    "nest_medium_fine.p3d = read_namelist(\n",
    "    Path(config.path.experiments.comparison) / \"shared_medium_fine_p3d.yml\"\n",
    ")\n",
    "update_dict_recursive(\n",
    "    nest_medium_fine.p3d,\n",
    "    read_namelist(Path(config.path.experiments.comparison) / \"usm_medium_fine_p3d.yml\"),\n",
    ")\n",
    "nest_medium_fine.p3dr = nest_medium_fine.p3d.copy()\n",
    "nest_medium_fine.p3dr[\"initialization_parameters\"][\"initializing_actions\"] = (\n",
    "    \"read_restart_data\"\n",
    ")"
   ]
  },
  {
   "cell_type": "markdown",
   "metadata": {},
   "source": [
    "### Static driver\n"
   ]
  },
  {
   "cell_type": "code",
   "execution_count": null,
   "metadata": {},
   "outputs": [],
   "source": [
    "# Refined domain for the medium nest by resampling\n",
    "nest_medium_fine.register_driver(\"static\", Driver())\n",
    "nest_medium_fine.drivers[\"static\"].set_grid(\"s\", vertical=False)\n",
    "# Offsetting the coordinates is required for reindex_like\n",
    "nest_medium_fine.drivers[\"static\"].ds[\"x\"] = (\n",
    "    nest_medium_fine.drivers[\"static\"].ds[\"x\"]\n",
    "    + job_usm.p3d[\"nesting_parameters\"][\"domain_layouts\"][18]\n",
    ")\n",
    "nest_medium_fine.drivers[\"static\"].ds[\"y\"] = (\n",
    "    nest_medium_fine.drivers[\"static\"].ds[\"y\"]\n",
    "    + job_usm.p3d[\"nesting_parameters\"][\"domain_layouts\"][19]\n",
    ")\n",
    "nest_medium_fine.drivers[\"static\"].ds = usm_driver.reindex_like(\n",
    "    nest_medium_fine.drivers[\"static\"].ds, method=\"nearest\"\n",
    ")\n",
    "for var in static_template.data_vars.keys():\n",
    "    nest_medium_fine.drivers[\"static\"].ds[var] = (\n",
    "        nest_medium_fine.drivers[\"static\"]\n",
    "        .ds[var]\n",
    "        .where(\n",
    "            urban_mask.reindex_like(\n",
    "                nest_medium_fine.drivers[\"static\"].ds, method=\"nearest\"\n",
    "            ),\n",
    "            other=static_template[var].reindex_like(\n",
    "                nest_medium_fine.drivers[\"static\"].ds, method=\"nearest\"\n",
    "            ),\n",
    "        )\n",
    "    )\n",
    "nest_medium_fine.drivers[\"static\"].ds[\"x\"] = (\n",
    "    nest_medium_fine.drivers[\"static\"].ds[\"x\"]\n",
    "    - job_usm.p3d[\"nesting_parameters\"][\"domain_layouts\"][18]\n",
    ")\n",
    "nest_medium_fine.drivers[\"static\"].ds[\"y\"] = (\n",
    "    nest_medium_fine.drivers[\"static\"].ds[\"y\"]\n",
    "    - job_usm.p3d[\"nesting_parameters\"][\"domain_layouts\"][19]\n",
    ")"
   ]
  },
  {
   "cell_type": "markdown",
   "metadata": {},
   "source": [
    "### Dynamic driver\n"
   ]
  },
  {
   "cell_type": "code",
   "execution_count": null,
   "metadata": {},
   "outputs": [],
   "source": [
    "nest_medium_fine.register_driver(\"dynamic\", Driver())\n",
    "nest_medium_fine.drivers[\"dynamic\"].set_grid(\"uvws\", vertical=True)\n",
    "nest_medium_fine.drivers[\"dynamic\"].set_zsoil()\n",
    "\n",
    "nest_medium_fine.drivers[\"dynamic\"].ds[\"x\"] = (\n",
    "    nest_medium_fine.drivers[\"dynamic\"].ds[\"x\"]\n",
    "    + job_usm.p3d[\"nesting_parameters\"][\"domain_layouts\"][18]\n",
    ")\n",
    "nest_medium_fine.drivers[\"dynamic\"].ds[\"y\"] = (\n",
    "    nest_medium_fine.drivers[\"dynamic\"].ds[\"y\"]\n",
    "    + job_usm.p3d[\"nesting_parameters\"][\"domain_layouts\"][19]\n",
    ")\n",
    "nest_medium_fine.drivers[\"dynamic\"].ds[\"init_soil_t\"] = (\n",
    "    job_usm.drivers[\"dynamic\"]\n",
    "    .ds[\"init_soil_t\"]\n",
    "    .reindex_like(nest_medium_fine.drivers[\"dynamic\"].ds, method=\"nearest\")\n",
    ")\n",
    "nest_medium_fine.drivers[\"dynamic\"].ds[\"init_soil_m\"] = (\n",
    "    job_usm.drivers[\"dynamic\"]\n",
    "    .ds[\"init_soil_m\"]\n",
    "    .reindex_like(nest_medium_fine.drivers[\"dynamic\"].ds, method=\"nearest\")\n",
    ")\n",
    "nest_medium_fine.drivers[\"dynamic\"].ds[\"x\"] = (\n",
    "    nest_medium_fine.drivers[\"dynamic\"].ds[\"x\"]\n",
    "    - job_usm.p3d[\"nesting_parameters\"][\"domain_layouts\"][18]\n",
    ")\n",
    "nest_medium_fine.drivers[\"dynamic\"].ds[\"y\"] = (\n",
    "    nest_medium_fine.drivers[\"dynamic\"].ds[\"y\"]\n",
    "    - job_usm.p3d[\"nesting_parameters\"][\"domain_layouts\"][19]\n",
    ")"
   ]
  },
  {
   "cell_type": "code",
   "execution_count": null,
   "metadata": {},
   "outputs": [],
   "source": [
    "nest_medium_fine.drivers[\"dynamic\"].ds[\"ls_forcing_ug\"] = (\n",
    "    job_usm.drivers[\"dynamic\"]\n",
    "    .ds[\"ls_forcing_ug\"]\n",
    "    .interp(\n",
    "        z=nest_medium_fine.drivers[\"dynamic\"].ds[\"z\"],\n",
    "        method=\"cubic\",\n",
    "        kwargs={\"fill_value\": \"extrapolate\"},\n",
    "    )\n",
    ")\n",
    "nest_medium_fine.drivers[\"dynamic\"].ds[\"ls_forcing_vg\"] = (\n",
    "    job_usm.drivers[\"dynamic\"]\n",
    "    .ds[\"ls_forcing_vg\"]\n",
    "    .interp(\n",
    "        z=nest_medium_fine.drivers[\"dynamic\"].ds[\"z\"],\n",
    "        method=\"cubic\",\n",
    "        kwargs={\"fill_value\": \"extrapolate\"},\n",
    "    )\n",
    ")\n",
    "nest_medium_fine.drivers[\"dynamic\"].ds[\"init_atmosphere_u\"] = u_init.interp(\n",
    "    z=nest_medium_fine.drivers[\"dynamic\"].ds[\"z\"],\n",
    "    method=\"linear\",\n",
    ")\n",
    "nest_medium_fine.drivers[\"dynamic\"].ds[\"init_atmosphere_v\"] = v_init.interp(\n",
    "    z=nest_medium_fine.drivers[\"dynamic\"].ds[\"z\"],\n",
    "    method=\"linear\",\n",
    ")\n",
    "nest_medium_fine.drivers[\"dynamic\"].ds[\"init_atmosphere_pt\"] = (\n",
    "    job_usm.drivers[\"dynamic\"]\n",
    "    .ds[\"init_atmosphere_pt\"]\n",
    "    .interp(\n",
    "        z=nest_medium_fine.drivers[\"dynamic\"].ds[\"z\"],\n",
    "        method=\"cubic\",\n",
    "        kwargs={\"fill_value\": \"extrapolate\"},\n",
    "    )\n",
    ")\n",
    "nest_medium_fine.drivers[\"dynamic\"].ds[\"init_atmosphere_qv\"] = (\n",
    "    job_usm.drivers[\"dynamic\"]\n",
    "    .ds[\"init_atmosphere_qv\"]\n",
    "    .interp(\n",
    "        z=nest_medium_fine.drivers[\"dynamic\"].ds[\"z\"],\n",
    "        method=\"cubic\",\n",
    "        kwargs={\"fill_value\": \"extrapolate\"},\n",
    "    )\n",
    ")\n",
    "nest_medium_fine.drivers[\"dynamic\"].ds[\"init_atmosphere_w\"] = (\n",
    "    job_usm.drivers[\"dynamic\"]\n",
    "    .ds[\"init_atmosphere_w\"]\n",
    "    .interp(\n",
    "        zw=nest_medium_fine.drivers[\"dynamic\"].ds[\"zw\"],\n",
    "        method=\"cubic\",\n",
    "        kwargs={\"fill_value\": \"extrapolate\"},\n",
    "    )\n",
    ")\n",
    "nest_medium_fine.drivers[\"dynamic\"] = set_surface_pressure_to_dynamic(\n",
    "    nest_medium_fine.drivers[\"dynamic\"], p0=1e5\n",
    ")"
   ]
  },
  {
   "cell_type": "code",
   "execution_count": null,
   "metadata": {},
   "outputs": [],
   "source": [
    "nest_medium_fine.drivers[\"dynamic\"].ds[\"rad_sw_in\"] = job_usm.drivers[\"dynamic\"].ds[\n",
    "    \"rad_sw_in\"\n",
    "]\n",
    "nest_medium_fine.drivers[\"dynamic\"].ds[\"rad_lw_in\"] = job_usm.drivers[\"dynamic\"].ds[\n",
    "    \"rad_lw_in\"\n",
    "]"
   ]
  },
  {
   "cell_type": "code",
   "execution_count": null,
   "metadata": {},
   "outputs": [],
   "source": [
    "nest_medium_fine.drivers[\"dynamic\"] = set_initial_soil_conditions_from_precursor(\n",
    "    pre_3d,\n",
    "    pre_static[\"vegetation_type\"],\n",
    "    nest_medium_fine.drivers[\"dynamic\"],\n",
    "    nest_medium_fine.drivers[\"static\"].ds[\"vegetation_type\"],\n",
    ")"
   ]
  },
  {
   "cell_type": "markdown",
   "metadata": {},
   "source": [
    "## Fine nest\n"
   ]
  },
  {
   "cell_type": "code",
   "execution_count": null,
   "metadata": {},
   "outputs": [],
   "source": [
    "nest_fine = JobNest(root=job_usm, nest_id=4)"
   ]
  },
  {
   "cell_type": "code",
   "execution_count": null,
   "metadata": {},
   "outputs": [],
   "source": [
    "nest_fine.p3d = read_namelist(\n",
    "    Path(config.path.experiments.comparison) / \"usm_fine_p3d.yml\"\n",
    ")\n",
    "nest_fine.p3dr = nest_fine.p3d.copy()\n",
    "nest_fine.p3dr[\"initialization_parameters\"][\"initializing_actions\"] = (\n",
    "    \"read_restart_data\"\n",
    ")"
   ]
  },
  {
   "cell_type": "markdown",
   "metadata": {},
   "source": [
    "### Static driver\n"
   ]
  },
  {
   "cell_type": "code",
   "execution_count": null,
   "metadata": {},
   "outputs": [],
   "source": [
    "nest_fine.register_driver(\"static\", Driver())\n",
    "nest_fine.drivers[\"static\"].set_grid(\"s\", vertical=False)\n",
    "# Offsetting the coordinates is required for reindex_like\n",
    "nest_fine.drivers[\"static\"].ds[\"x\"] = (\n",
    "    nest_fine.drivers[\"static\"].ds[\"x\"]\n",
    "    + job_usm.p3d[\"nesting_parameters\"][\"domain_layouts\"][25]\n",
    ")\n",
    "nest_fine.drivers[\"static\"].ds[\"y\"] = (\n",
    "    nest_fine.drivers[\"static\"].ds[\"y\"]\n",
    "    + job_usm.p3d[\"nesting_parameters\"][\"domain_layouts\"][26]\n",
    ")\n",
    "nest_fine.drivers[\"static\"].ds = usm_driver.reindex_like(\n",
    "    nest_fine.drivers[\"static\"].ds, method=\"nearest\"\n",
    ")\n",
    "for var in static_template.data_vars.keys():\n",
    "    nest_fine.drivers[\"static\"].ds[var] = (\n",
    "        nest_fine.drivers[\"static\"]\n",
    "        .ds[var]\n",
    "        .where(\n",
    "            urban_mask.reindex_like(nest_fine.drivers[\"static\"].ds, method=\"nearest\"),\n",
    "            other=static_template[var].reindex_like(\n",
    "                nest_fine.drivers[\"static\"].ds, method=\"nearest\"\n",
    "            ),\n",
    "        )\n",
    "    )\n",
    "nest_fine.drivers[\"static\"].ds[\"x\"] = (\n",
    "    nest_fine.drivers[\"static\"].ds[\"x\"]\n",
    "    - job_usm.p3d[\"nesting_parameters\"][\"domain_layouts\"][25]\n",
    ")\n",
    "nest_fine.drivers[\"static\"].ds[\"y\"] = (\n",
    "    nest_fine.drivers[\"static\"].ds[\"y\"]\n",
    "    - job_usm.p3d[\"nesting_parameters\"][\"domain_layouts\"][26]\n",
    ")"
   ]
  },
  {
   "cell_type": "markdown",
   "metadata": {},
   "source": [
    "### Dynamic driver\n"
   ]
  },
  {
   "cell_type": "code",
   "execution_count": null,
   "metadata": {},
   "outputs": [],
   "source": [
    "nest_fine.register_driver(\"dynamic\", Driver())\n",
    "nest_fine.drivers[\"dynamic\"].set_grid(\"uvws\", vertical=True)\n",
    "nest_fine.drivers[\"dynamic\"].set_zsoil()\n",
    "\n",
    "nest_fine.drivers[\"dynamic\"].ds[\"x\"] = (\n",
    "    nest_fine.drivers[\"dynamic\"].ds[\"x\"]\n",
    "    + job_usm.p3d[\"nesting_parameters\"][\"domain_layouts\"][25]\n",
    ")\n",
    "nest_fine.drivers[\"dynamic\"].ds[\"y\"] = (\n",
    "    nest_fine.drivers[\"dynamic\"].ds[\"y\"]\n",
    "    + job_usm.p3d[\"nesting_parameters\"][\"domain_layouts\"][26]\n",
    ")\n",
    "nest_fine.drivers[\"dynamic\"].ds[\"init_soil_t\"] = (\n",
    "    job_usm.drivers[\"dynamic\"]\n",
    "    .ds[\"init_soil_t\"]\n",
    "    .reindex_like(nest_fine.drivers[\"dynamic\"].ds, method=\"nearest\")\n",
    ")\n",
    "nest_fine.drivers[\"dynamic\"].ds[\"init_soil_m\"] = (\n",
    "    job_usm.drivers[\"dynamic\"]\n",
    "    .ds[\"init_soil_m\"]\n",
    "    .reindex_like(nest_fine.drivers[\"dynamic\"].ds, method=\"nearest\")\n",
    ")\n",
    "nest_fine.drivers[\"dynamic\"].ds[\"x\"] = (\n",
    "    nest_fine.drivers[\"dynamic\"].ds[\"x\"]\n",
    "    - job_usm.p3d[\"nesting_parameters\"][\"domain_layouts\"][25]\n",
    ")\n",
    "nest_fine.drivers[\"dynamic\"].ds[\"y\"] = (\n",
    "    nest_fine.drivers[\"dynamic\"].ds[\"y\"]\n",
    "    - job_usm.p3d[\"nesting_parameters\"][\"domain_layouts\"][26]\n",
    ")"
   ]
  },
  {
   "cell_type": "code",
   "execution_count": null,
   "metadata": {},
   "outputs": [],
   "source": [
    "nest_fine.drivers[\"dynamic\"].ds[\"ls_forcing_ug\"] = (\n",
    "    job_usm.drivers[\"dynamic\"]\n",
    "    .ds[\"ls_forcing_ug\"]\n",
    "    .interp(\n",
    "        z=nest_fine.drivers[\"dynamic\"].ds[\"z\"],\n",
    "        method=\"cubic\",\n",
    "        kwargs={\"fill_value\": \"extrapolate\"},\n",
    "    )\n",
    ")\n",
    "nest_fine.drivers[\"dynamic\"].ds[\"ls_forcing_vg\"] = (\n",
    "    job_usm.drivers[\"dynamic\"]\n",
    "    .ds[\"ls_forcing_vg\"]\n",
    "    .interp(\n",
    "        z=nest_fine.drivers[\"dynamic\"].ds[\"z\"],\n",
    "        method=\"cubic\",\n",
    "        kwargs={\"fill_value\": \"extrapolate\"},\n",
    "    )\n",
    ")\n",
    "nest_fine.drivers[\"dynamic\"].ds[\"init_atmosphere_u\"] = u_init.interp(\n",
    "    z=nest_fine.drivers[\"dynamic\"].ds[\"z\"],\n",
    "    method=\"linear\",\n",
    ")\n",
    "nest_fine.drivers[\"dynamic\"].ds[\"init_atmosphere_v\"] = v_init.interp(\n",
    "    z=nest_fine.drivers[\"dynamic\"].ds[\"z\"],\n",
    "    method=\"linear\",\n",
    ")\n",
    "nest_fine.drivers[\"dynamic\"].ds[\"init_atmosphere_pt\"] = (\n",
    "    job_usm.drivers[\"dynamic\"]\n",
    "    .ds[\"init_atmosphere_pt\"]\n",
    "    .interp(\n",
    "        z=nest_fine.drivers[\"dynamic\"].ds[\"z\"],\n",
    "        method=\"cubic\",\n",
    "        kwargs={\"fill_value\": \"extrapolate\"},\n",
    "    )\n",
    ")\n",
    "nest_fine.drivers[\"dynamic\"].ds[\"init_atmosphere_qv\"] = (\n",
    "    job_usm.drivers[\"dynamic\"]\n",
    "    .ds[\"init_atmosphere_qv\"]\n",
    "    .interp(\n",
    "        z=nest_fine.drivers[\"dynamic\"].ds[\"z\"],\n",
    "        method=\"cubic\",\n",
    "        kwargs={\"fill_value\": \"extrapolate\"},\n",
    "    )\n",
    ")\n",
    "nest_fine.drivers[\"dynamic\"].ds[\"init_atmosphere_w\"] = (\n",
    "    job_usm.drivers[\"dynamic\"]\n",
    "    .ds[\"init_atmosphere_w\"]\n",
    "    .interp(\n",
    "        zw=nest_fine.drivers[\"dynamic\"].ds[\"zw\"],\n",
    "        method=\"cubic\",\n",
    "        kwargs={\"fill_value\": \"extrapolate\"},\n",
    "    )\n",
    ")\n",
    "nest_fine.drivers[\"dynamic\"] = set_surface_pressure_to_dynamic(\n",
    "    nest_fine.drivers[\"dynamic\"], p0=1e5\n",
    ")"
   ]
  },
  {
   "cell_type": "code",
   "execution_count": null,
   "metadata": {},
   "outputs": [],
   "source": [
    "nest_fine.drivers[\"dynamic\"].ds[\"rad_sw_in\"] = job_usm.drivers[\"dynamic\"].ds[\n",
    "    \"rad_sw_in\"\n",
    "]\n",
    "nest_fine.drivers[\"dynamic\"].ds[\"rad_lw_in\"] = job_usm.drivers[\"dynamic\"].ds[\n",
    "    \"rad_lw_in\"\n",
    "]"
   ]
  },
  {
   "cell_type": "code",
   "execution_count": null,
   "metadata": {},
   "outputs": [],
   "source": [
    "nest_fine.drivers[\"dynamic\"] = set_initial_soil_conditions_from_precursor(\n",
    "    pre_3d,\n",
    "    pre_static[\"vegetation_type\"],\n",
    "    nest_fine.drivers[\"dynamic\"],\n",
    "    nest_fine.drivers[\"static\"].ds[\"vegetation_type\"],\n",
    ")"
   ]
  },
  {
   "cell_type": "markdown",
   "metadata": {},
   "source": [
    "## Write job files to storage\n"
   ]
  },
  {
   "cell_type": "code",
   "execution_count": null,
   "metadata": {},
   "outputs": [],
   "source": [
    "job_usm.write()"
   ]
  }
 ],
 "metadata": {
  "kernelspec": {
   "display_name": "slurb_experiments",
   "language": "python",
   "name": "python3"
  },
  "language_info": {
   "codemirror_mode": {
    "name": "ipython",
    "version": 3
   },
   "file_extension": ".py",
   "mimetype": "text/x-python",
   "name": "python",
   "nbconvert_exporter": "python",
   "pygments_lexer": "ipython3",
   "version": "3.12.3"
  }
 },
 "nbformat": 4,
 "nbformat_minor": 2
}
