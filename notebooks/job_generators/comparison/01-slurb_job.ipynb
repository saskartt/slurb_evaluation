{
 "cells": [
  {
   "cell_type": "markdown",
   "metadata": {},
   "source": [
    "# Prepare SLUrb jobs for model comparison\n",
    "\n",
    "For SLUrb, jobs with two resolutions are created in order to study grid sensitivity at the same time.: 2 m (fine) and 16 m (coarse).\n"
   ]
  },
  {
   "cell_type": "code",
   "execution_count": null,
   "metadata": {},
   "outputs": [],
   "source": [
    "%load_ext dotenv\n",
    "%dotenv\n",
    "%load_ext autoreload\n",
    "%autoreload 2"
   ]
  },
  {
   "cell_type": "code",
   "execution_count": null,
   "metadata": {},
   "outputs": [],
   "source": [
    "from pathlib import Path\n",
    "from src.config import get_config, get_dask_cluster\n",
    "\n",
    "config = get_config()\n",
    "cluster, client = get_dask_cluster(config)"
   ]
  },
  {
   "cell_type": "code",
   "execution_count": null,
   "metadata": {},
   "outputs": [],
   "source": [
    "import xarray as xr\n",
    "import numpy as np\n",
    "\n",
    "from src.job_generation import (\n",
    "    Job,\n",
    "    read_namelist,\n",
    "    Driver,\n",
    "    JobNest,\n",
    "    get_urban_morphology_from_usm_driver,\n",
    "    set_urban_morphology_to_slurb_driver,\n",
    "    update_dict_recursive,\n",
    "    set_radiation_to_dynamic,\n",
    "    set_initial_soil_conditions_from_precursor,\n",
    "    set_slurb_deep_soil_temperature_from_dynamic,\n",
    "    set_spinup_parameters_from_precursor,\n",
    "    set_surface_pressure_to_dynamic,\n",
    "    get_nest_mask,\n",
    ")"
   ]
  },
  {
   "cell_type": "markdown",
   "metadata": {},
   "source": [
    "## Prepare job objects\n",
    "\n",
    "The jobs (nests) are constructed by top-down-approach: first a coarse resolution domain is created and the nests are created by upsampling.\n",
    "\n",
    "### Coarse resolution case\n"
   ]
  },
  {
   "cell_type": "code",
   "execution_count": null,
   "metadata": {},
   "outputs": [],
   "source": [
    "job_slurb = Job(\"slurb_c_slurb\")"
   ]
  },
  {
   "cell_type": "code",
   "execution_count": null,
   "metadata": {},
   "outputs": [],
   "source": [
    "job_slurb.p3d = read_namelist(\n",
    "    Path(config.path.experiments.comparison) / \"shared_coarse_p3d.yml\"\n",
    ")"
   ]
  },
  {
   "cell_type": "markdown",
   "metadata": {},
   "source": [
    "Merge case-specific settings\n"
   ]
  },
  {
   "cell_type": "code",
   "execution_count": null,
   "metadata": {},
   "outputs": [],
   "source": [
    "update_dict_recursive(\n",
    "    job_slurb.p3d,\n",
    "    read_namelist(Path(config.path.experiments.comparison) / \"slurb_coarse_p3d.yml\"),\n",
    ")"
   ]
  },
  {
   "cell_type": "code",
   "execution_count": null,
   "metadata": {},
   "outputs": [],
   "source": [
    "job_slurb.p3dr = job_slurb.p3d.copy()\n",
    "job_slurb.p3dr[\"initialization_parameters\"][\"initializing_actions\"] = (\n",
    "    \"read_restart_data\"\n",
    ")"
   ]
  },
  {
   "cell_type": "markdown",
   "metadata": {},
   "source": [
    "### Load surface configuration\n"
   ]
  },
  {
   "cell_type": "code",
   "execution_count": null,
   "metadata": {},
   "outputs": [],
   "source": [
    "lcz_map = xr.open_dataset(Path(config.path.data.raw) / \"lcz\" / \"lcz_map.nc\")[\"lcz\"]\n",
    "usm_driver = xr.open_dataset(Path(config.path.data.raw) / \"lcz\" / \"USM_lcz_fine.nc\")"
   ]
  },
  {
   "cell_type": "markdown",
   "metadata": {},
   "source": [
    "## Setup the coarse domain\n"
   ]
  },
  {
   "cell_type": "markdown",
   "metadata": {},
   "source": [
    "### SLUrb driver\n"
   ]
  },
  {
   "cell_type": "code",
   "execution_count": null,
   "metadata": {},
   "outputs": [],
   "source": [
    "job_slurb.register_driver(\"slurb\", Driver())"
   ]
  },
  {
   "cell_type": "code",
   "execution_count": null,
   "metadata": {},
   "outputs": [],
   "source": [
    "job_slurb.drivers[\"slurb\"].set_grid(\"s\", vertical=False)\n",
    "job_slurb.drivers[\"slurb\"].set_attrs(\n",
    "    Path(config.path.experiments.comparison) / \"global_attributes.yml\"\n",
    ")\n",
    "job_slurb.drivers[\"slurb\"].ds = job_slurb.drivers[\"slurb\"].ds.assign_coords(\n",
    "    nroof_3d=np.arange(1, 5, dtype=np.int8),\n",
    "    nroad_3d=np.arange(1, 5, dtype=np.int8),\n",
    "    nwall_3d=np.arange(1, 5, dtype=np.int8),\n",
    "    nwindow_3d=np.arange(1, 5, dtype=np.int8),\n",
    ")"
   ]
  },
  {
   "cell_type": "markdown",
   "metadata": {},
   "source": [
    "Set material parameters from a config file. Note that this file doesn't include the urban morphological parameters, as these are set according to a LCZ.\n"
   ]
  },
  {
   "cell_type": "code",
   "execution_count": null,
   "metadata": {},
   "outputs": [],
   "source": [
    "job_slurb.driver_from_config(\n",
    "    Path(config.path.experiments.comparison) / \"base_material_params.yml\",\n",
    "    \"slurb\",\n",
    ")"
   ]
  },
  {
   "cell_type": "markdown",
   "metadata": {},
   "source": [
    "Set urban morphology according to a LCZ map.\n"
   ]
  },
  {
   "cell_type": "code",
   "execution_count": null,
   "metadata": {},
   "outputs": [],
   "source": [
    "urban_params = get_urban_morphology_from_usm_driver(lcz_map, usm_driver)\n",
    "job_slurb.drivers[\"slurb\"].ds = set_urban_morphology_to_slurb_driver(\n",
    "    lcz_map.copy(),\n",
    "    job_slurb.drivers[\"slurb\"].ds,\n",
    "    urban_params,\n",
    "    offset_x=2368.0,\n",
    "    offset_y=1280.0,\n",
    "    buffer=4,  # four-gridpoint buffer zone\n",
    ")"
   ]
  },
  {
   "cell_type": "code",
   "execution_count": null,
   "metadata": {},
   "outputs": [],
   "source": [
    "urban_params"
   ]
  },
  {
   "cell_type": "markdown",
   "metadata": {},
   "source": [
    "### Static driver\n"
   ]
  },
  {
   "cell_type": "markdown",
   "metadata": {},
   "source": [
    "For area outside the fine resolution nest, set vegetation as in precursor. All-grass domain would probably be too smooth surface mechanically. First, a child domain mask is needed.\n"
   ]
  },
  {
   "cell_type": "code",
   "execution_count": null,
   "metadata": {},
   "outputs": [],
   "source": [
    "job_slurb.register_driver(\"static\", Driver())\n",
    "job_slurb.drivers[\"static\"].ds = xr.open_dataset(\n",
    "    Path(config.path.data.jobs)\n",
    "    / \"slurb_pre_default\"\n",
    "    / \"INPUT\"\n",
    "    / \"slurb_pre_default_static\"\n",
    ")\n",
    "job_slurb.drivers[\"static\"].set_attrs(\n",
    "    Path(config.path.experiments.comparison) / \"global_attributes.yml\"\n",
    ")\n",
    "job_slurb.drivers[\"static\"].ds[\"vegetation_pars\"][:] = np.nan"
   ]
  },
  {
   "cell_type": "markdown",
   "metadata": {},
   "source": [
    "Set case-specific modifications to the driver. In SLUrb, the roof height is referenced to the PALM surface, set zt accordingly.\n"
   ]
  },
  {
   "cell_type": "markdown",
   "metadata": {},
   "source": [
    "Set terrain height to builiding height or two-thirds of assumed canopy height (20 m) for high vegetation. Furthermore, set vegetation type to grass for the urban area and momentum roughness length to urban value (needed as PALM tiling approach is not yet fully supported).\n"
   ]
  },
  {
   "cell_type": "code",
   "execution_count": null,
   "metadata": {},
   "outputs": [],
   "source": [
    "job_slurb.drivers[\"static\"].ds[\"zt\"] = (\n",
    "    (\"y\", \"x\"),\n",
    "    job_slurb.drivers[\"slurb\"].ds[\"building_height\"].data,\n",
    ")\n",
    "job_slurb.drivers[\"static\"].ds[\"zt\"] = (\n",
    "    job_slurb.drivers[\"static\"].ds[\"zt\"].fillna(0.0).astype(np.float32)\n",
    ")\n",
    "\n",
    "job_slurb.drivers[\"static\"].ds[\"vegetation_type\"] = (\n",
    "    job_slurb.drivers[\"static\"]\n",
    "    .ds[\"vegetation_type\"]\n",
    "    .where(job_slurb.drivers[\"slurb\"].ds[\"urban_fraction\"] <= 0.0, other=3)\n",
    ")\n",
    "\n",
    "job_slurb.drivers[\"static\"].ds[\"zt\"] = (\n",
    "    job_slurb.drivers[\"static\"]\n",
    "    .ds[\"zt\"]\n",
    "    .where(\n",
    "        ~np.isin(\n",
    "            job_slurb.drivers[\"static\"].ds[\"vegetation_type\"], [4, 5, 6, 7, 17, 18]\n",
    "        ),\n",
    "        other=(2.0 / 3.0) * 20.0,\n",
    "    )\n",
    ")\n",
    "job_slurb.drivers[\"static\"].ds[\"zt\"] = (\n",
    "    job_slurb.drivers[\"static\"]\n",
    "    .ds[\"zt\"]\n",
    "    .where(job_slurb.drivers[\"static\"].ds[\"x\"] <= 3840, other=0.0)\n",
    ")"
   ]
  },
  {
   "cell_type": "markdown",
   "metadata": {},
   "source": [
    "Moreover, set _zt_ at the outflow boundary to maximum zt, as the outflow boundary condition (radiation) in combination with the turbulence recycling mass-flux conservation condition is quite sensitive. Do this for the inflow as well to ensure mass flux conservation.\n"
   ]
  },
  {
   "cell_type": "code",
   "execution_count": null,
   "metadata": {},
   "outputs": [],
   "source": [
    "job_slurb.drivers[\"static\"].ds[\"zt\"][:, -1:] = (\n",
    "    job_slurb.drivers[\"slurb\"].ds[\"building_height\"].max()\n",
    ")\n",
    "job_slurb.drivers[\"static\"].ds[\"zt\"][:, 0] = (\n",
    "    job_slurb.drivers[\"slurb\"].ds[\"building_height\"].max()\n",
    ")"
   ]
  },
  {
   "cell_type": "code",
   "execution_count": null,
   "metadata": {},
   "outputs": [],
   "source": [
    "# I don't know why the byte types get casted to into floats when reading the input, but recast them here\n",
    "int_vars = (\"pavement_type\", \"soil_type\", \"vegetation_type\", \"water_type\")\n",
    "job_slurb.drivers[\"static\"].ds[\"pavement_type\"][:] = -127\n",
    "job_slurb.drivers[\"static\"].ds[\"water_type\"][:] = -127\n",
    "for var in int_vars:\n",
    "    job_slurb.drivers[\"static\"].ds[var] = (\n",
    "        job_slurb.drivers[\"static\"].ds[var].astype(np.int8)\n",
    "    )"
   ]
  },
  {
   "cell_type": "markdown",
   "metadata": {},
   "source": [
    "Furthermore, the roughness length is limited to $z_0=0.5*z_{mo}$. This won't affect the coarse resolution runs, but a limitation will be applied in the finer resolution nests. Thus, for consistency, set limited roughness length for all domains. Otherwise, the setups at different resolution levels wouldn't be comparable. The maximum $z_0$ of vegetation lookup tables is $2.0~\\mathrm{m}$, so this has to be done only for 4 m and 2 m domain extents.\n"
   ]
  },
  {
   "cell_type": "code",
   "execution_count": null,
   "metadata": {},
   "outputs": [],
   "source": [
    "medium_fine_mask = (\n",
    "    (job_slurb.drivers[\"static\"].ds[\"x\"] >= 896.0)\n",
    "    & (job_slurb.drivers[\"static\"].ds[\"x\"] <= 3968.0)\n",
    ") & (\n",
    "    (job_slurb.drivers[\"static\"].ds[\"y\"] >= 512.0)\n",
    "    & (job_slurb.drivers[\"static\"].ds[\"y\"] <= 3584.0)\n",
    ")\n",
    "fine_mask = (\n",
    "    (job_slurb.drivers[\"static\"].ds[\"x\"] >= 2112.0)\n",
    "    & (job_slurb.drivers[\"static\"].ds[\"x\"] <= 3904.0)\n",
    ") & (\n",
    "    (job_slurb.drivers[\"static\"].ds[\"y\"] >= 1280.0)\n",
    "    & (job_slurb.drivers[\"static\"].ds[\"y\"] <= 2816.0)\n",
    ")\n",
    "\n",
    "job_slurb.drivers[\"static\"].ds[\"vegetation_pars\"][4, :, :] = (\n",
    "    job_slurb.drivers[\"static\"]\n",
    "    .ds[\"vegetation_pars\"][4, :, :]\n",
    "    .where(\n",
    "        ~medium_fine_mask\n",
    "        | ~job_slurb.drivers[\"static\"]\n",
    "        .ds[\"vegetation_type\"]\n",
    "        .isin([4, 5, 6, 7, 14, 17, 18]),\n",
    "        other=1.0,\n",
    "    )\n",
    ")\n",
    "\n",
    "job_slurb.drivers[\"static\"].ds[\"vegetation_pars\"][4, :, :] = (\n",
    "    job_slurb.drivers[\"slurb\"]\n",
    "    .ds[\"z0_urb\"]\n",
    "    .where(\n",
    "        job_slurb.drivers[\"slurb\"].ds[\"urban_fraction\"] > 0.0,\n",
    "        other=job_slurb.drivers[\"static\"].ds[\"vegetation_pars\"][4, :, :],\n",
    "    )\n",
    ")\n",
    "\n",
    "job_slurb.drivers[\"static\"].ds[\"vegetation_pars\"][5, :, :] = (\n",
    "    job_slurb.drivers[\"static\"]\n",
    "    .ds[\"vegetation_pars\"][5, :, :]\n",
    "    .where(\n",
    "        ~medium_fine_mask\n",
    "        | ~job_slurb.drivers[\"static\"]\n",
    "        .ds[\"vegetation_type\"]\n",
    "        .isin([4, 5, 6, 7, 14, 17, 18]),\n",
    "        other=1.0,\n",
    "    )\n",
    ")\n",
    "job_slurb.drivers[\"static\"].ds[\"vegetation_pars\"][4, :, :] = (\n",
    "    job_slurb.drivers[\"static\"]\n",
    "    .ds[\"vegetation_pars\"][4, :, :]\n",
    "    .where(\n",
    "        ~fine_mask\n",
    "        | ~job_slurb.drivers[\"static\"]\n",
    "        .ds[\"vegetation_type\"]\n",
    "        .isin([4, 5, 6, 7, 14, 17, 18]),\n",
    "        other=0.5,\n",
    "    )\n",
    ")\n",
    "job_slurb.drivers[\"static\"].ds[\"vegetation_pars\"][5, :, :] = (\n",
    "    job_slurb.drivers[\"static\"]\n",
    "    .ds[\"vegetation_pars\"][5, :, :]\n",
    "    .where(\n",
    "        ~fine_mask\n",
    "        | ~job_slurb.drivers[\"static\"]\n",
    "        .ds[\"vegetation_type\"]\n",
    "        .isin([4, 5, 6, 7, 14, 17, 18]),\n",
    "        other=0.5,\n",
    "    )\n",
    ")"
   ]
  },
  {
   "cell_type": "code",
   "execution_count": null,
   "metadata": {},
   "outputs": [],
   "source": [
    "job_slurb.drivers[\"static\"].ds[\"vegetation_type\"]"
   ]
  },
  {
   "cell_type": "markdown",
   "metadata": {},
   "source": [
    "### Set turbulent inflow\n",
    "\n",
    "For this, we simply reuse the default precursor from the sensitivity tests.\n"
   ]
  },
  {
   "cell_type": "code",
   "execution_count": null,
   "metadata": {},
   "outputs": [],
   "source": [
    "job_slurb.register_driver(\"dynamic\", Driver())\n",
    "job_slurb.drivers[\"dynamic\"].set_grid(\"uvws\", vertical=True)\n",
    "job_slurb.drivers[\"dynamic\"].set_zsoil()\n",
    "job_slurb.drivers[\"dynamic\"]\n",
    "job_slurb.set_turbulent_inflow(\n",
    "    inflow_source_file=Path(config.path.data.jobs)\n",
    "    / \"slurb_pre_default\"\n",
    "    / \"OUTPUT\"\n",
    "    / \"slurb_pre_default_yz.001.nc\",\n",
    "    init_source_file=Path(config.path.data.jobs)\n",
    "    / \"slurb_pre_default\"\n",
    "    / \"OUTPUT\"\n",
    "    / \"slurb_pre_default_3d.001.nc\",\n",
    "    dynamic_source_file=Path(config.path.data.jobs)\n",
    "    / \"slurb_pre_default\"\n",
    "    / \"INPUT\"\n",
    "    / \"slurb_pre_default_dynamic\",\n",
    ")"
   ]
  },
  {
   "cell_type": "code",
   "execution_count": null,
   "metadata": {},
   "outputs": [],
   "source": [
    "pre_3d = xr.open_dataset(\n",
    "    Path(config.path.data.jobs)\n",
    "    / \"slurb_pre_default\"\n",
    "    / \"OUTPUT\"\n",
    "    / \"slurb_pre_default_3d.001.nc\",\n",
    "    decode_times=False,\n",
    ")\n",
    "pre_static = xr.open_dataset(\n",
    "    Path(config.path.data.jobs)\n",
    "    / \"slurb_pre_default\"\n",
    "    / \"INPUT\"\n",
    "    / \"slurb_pre_default_static\"\n",
    ")\n",
    "job_slurb.drivers[\"dynamic\"] = set_initial_soil_conditions_from_precursor(\n",
    "    pre_3d,\n",
    "    pre_static[\"vegetation_type\"],\n",
    "    job_slurb.drivers[\"dynamic\"],\n",
    "    job_slurb.drivers[\"static\"].ds[\"vegetation_type\"],\n",
    ")\n",
    "\n",
    "job_slurb.drivers[\"slurb\"] = set_slurb_deep_soil_temperature_from_dynamic(\n",
    "    job_slurb.drivers[\"slurb\"],\n",
    "    job_slurb.drivers[\"dynamic\"],\n",
    ")"
   ]
  },
  {
   "cell_type": "markdown",
   "metadata": {},
   "source": [
    "Modify the initial profiles to ensure that the forcing during the spinup is exactly the same.\n"
   ]
  },
  {
   "cell_type": "code",
   "execution_count": null,
   "metadata": {},
   "outputs": [],
   "source": [
    "u_init = (\n",
    "    job_slurb.drivers[\"dynamic\"]\n",
    "    .ds[\"init_atmosphere_u\"]\n",
    "    .where(job_slurb.drivers[\"dynamic\"].ds[\"z\"] >= 24.0, other=np.nan)\n",
    ")\n",
    "v_init = (\n",
    "    job_slurb.drivers[\"dynamic\"]\n",
    "    .ds[\"init_atmosphere_v\"]\n",
    "    .where(job_slurb.drivers[\"dynamic\"].ds[\"z\"] >= 24.0, other=np.nan)\n",
    ")\n",
    "pt_init = (\n",
    "    job_slurb.drivers[\"dynamic\"]\n",
    "    .ds[\"init_atmosphere_pt\"]\n",
    "    .where(job_slurb.drivers[\"dynamic\"].ds[\"z\"] >= 24.0, other=np.nan)\n",
    ")\n",
    "qv_init = (\n",
    "    job_slurb.drivers[\"dynamic\"]\n",
    "    .ds[\"init_atmosphere_qv\"]\n",
    "    .where(job_slurb.drivers[\"dynamic\"].ds[\"z\"] >= 24.0, other=np.nan)\n",
    ")\n",
    "u_init = u_init.bfill(dim=\"z\")\n",
    "v_init = v_init.bfill(dim=\"z\")\n",
    "pt_init = pt_init.bfill(dim=\"z\")\n",
    "qv_init = qv_init.bfill(dim=\"z\")"
   ]
  },
  {
   "cell_type": "code",
   "execution_count": null,
   "metadata": {},
   "outputs": [],
   "source": [
    "pt_init.values"
   ]
  },
  {
   "cell_type": "markdown",
   "metadata": {},
   "source": [
    "### Spinup parameters\n"
   ]
  },
  {
   "cell_type": "code",
   "execution_count": null,
   "metadata": {},
   "outputs": [],
   "source": [
    "pre_pr = xr.open_dataset(\n",
    "    Path(config.path.data.jobs)\n",
    "    / \"slurb_pre_default\"\n",
    "    / \"OUTPUT\"\n",
    "    / \"slurb_pre_default_pr.001.nc\",\n",
    "    decode_times=False,\n",
    ")\n",
    "job_slurb.p3d, job_slurb.p3dr = set_spinup_parameters_from_precursor(\n",
    "    pre_pr, job_slurb.p3d, job_slurb.p3dr\n",
    ")"
   ]
  },
  {
   "cell_type": "markdown",
   "metadata": {},
   "source": [
    "### Radiation forcing\n"
   ]
  },
  {
   "cell_type": "code",
   "execution_count": null,
   "metadata": {},
   "outputs": [],
   "source": [
    "era5_surf_diurnal = xr.open_dataset(\n",
    "    config.path.data.raw + \"era5/era5_march_2013-2022_surf_diurnal.nc\"\n",
    ")\n",
    "job_slurb.drivers[\"dynamic\"] = set_radiation_to_dynamic(\n",
    "    era5_surf_diurnal, job_slurb.drivers[\"dynamic\"], time_offset=3 * 3600\n",
    ")\n",
    "job_slurb.drivers[\"dynamic\"].ds[\"rad_sw_in\"].plot()"
   ]
  },
  {
   "cell_type": "markdown",
   "metadata": {},
   "source": [
    "### Surface pressure\n"
   ]
  },
  {
   "cell_type": "code",
   "execution_count": null,
   "metadata": {},
   "outputs": [],
   "source": [
    "job_slurb.drivers[\"dynamic\"] = set_surface_pressure_to_dynamic(\n",
    "    job_slurb.drivers[\"dynamic\"], p0=1e5\n",
    ")"
   ]
  },
  {
   "cell_type": "markdown",
   "metadata": {},
   "source": [
    "## Medium-coarse nest\n"
   ]
  },
  {
   "cell_type": "code",
   "execution_count": null,
   "metadata": {},
   "outputs": [],
   "source": [
    "nest_medium_coarse = JobNest(root=job_slurb, nest_id=2)"
   ]
  },
  {
   "cell_type": "markdown",
   "metadata": {},
   "source": [
    "### Namelists\n"
   ]
  },
  {
   "cell_type": "code",
   "execution_count": null,
   "metadata": {},
   "outputs": [],
   "source": [
    "nest_medium_coarse.p3d = read_namelist(\n",
    "    Path(config.path.experiments.comparison) / \"shared_medium_coarse_p3d.yml\"\n",
    ")\n",
    "update_dict_recursive(\n",
    "    nest_medium_coarse.p3d,\n",
    "    read_namelist(\n",
    "        Path(config.path.experiments.comparison) / \"slurb_medium_coarse_p3d.yml\"\n",
    "    ),\n",
    ")\n",
    "nest_medium_coarse.p3dr = nest_medium_coarse.p3d.copy()\n",
    "nest_medium_coarse.p3dr[\"initialization_parameters\"][\"initializing_actions\"] = (\n",
    "    \"read_restart_data\"\n",
    ")"
   ]
  },
  {
   "cell_type": "markdown",
   "metadata": {},
   "source": [
    "### Static driver\n"
   ]
  },
  {
   "cell_type": "code",
   "execution_count": null,
   "metadata": {},
   "outputs": [],
   "source": [
    "# Refined domain for the medium nest by resampling\n",
    "nest_medium_coarse.register_driver(\"static\", Driver())\n",
    "nest_medium_coarse.drivers[\"static\"].set_grid(\"s\", vertical=False)\n",
    "# Offsetting the coordinates is required for reindex_like\n",
    "nest_medium_coarse.drivers[\"static\"].ds[\"x\"] = (\n",
    "    nest_medium_coarse.drivers[\"static\"].ds[\"x\"]\n",
    "    + job_slurb.p3d[\"nesting_parameters\"][\"domain_layouts\"][11]\n",
    ")\n",
    "nest_medium_coarse.drivers[\"static\"].ds[\"y\"] = (\n",
    "    nest_medium_coarse.drivers[\"static\"].ds[\"y\"]\n",
    "    + job_slurb.p3d[\"nesting_parameters\"][\"domain_layouts\"][12]\n",
    ")\n",
    "nest_medium_coarse.drivers[\"static\"].ds = job_slurb.drivers[\"static\"].ds.reindex_like(\n",
    "    nest_medium_coarse.drivers[\"static\"].ds, method=\"nearest\"\n",
    ")\n",
    "nest_medium_coarse.drivers[\"static\"].ds[\"x\"] = (\n",
    "    nest_medium_coarse.drivers[\"static\"].ds[\"x\"]\n",
    "    - job_slurb.p3d[\"nesting_parameters\"][\"domain_layouts\"][11]\n",
    ")\n",
    "nest_medium_coarse.drivers[\"static\"].ds[\"y\"] = (\n",
    "    nest_medium_coarse.drivers[\"static\"].ds[\"y\"]\n",
    "    - job_slurb.p3d[\"nesting_parameters\"][\"domain_layouts\"][12]\n",
    ")"
   ]
  },
  {
   "cell_type": "markdown",
   "metadata": {},
   "source": [
    "### SLUrb driver\n"
   ]
  },
  {
   "cell_type": "code",
   "execution_count": null,
   "metadata": {},
   "outputs": [],
   "source": [
    "# Refined domain for the medium-coarse nest by resampling\n",
    "nest_medium_coarse.register_driver(\"slurb\", Driver())\n",
    "nest_medium_coarse.drivers[\"slurb\"].set_grid(\"s\", vertical=False)\n",
    "# Offsetting the coordinates is required for reindex_like\n",
    "nest_medium_coarse.drivers[\"slurb\"].ds[\"x\"] = (\n",
    "    nest_medium_coarse.drivers[\"slurb\"].ds[\"x\"]\n",
    "    + job_slurb.p3d[\"nesting_parameters\"][\"domain_layouts\"][11]\n",
    ")\n",
    "nest_medium_coarse.drivers[\"slurb\"].ds[\"y\"] = (\n",
    "    nest_medium_coarse.drivers[\"slurb\"].ds[\"y\"]\n",
    "    + job_slurb.p3d[\"nesting_parameters\"][\"domain_layouts\"][12]\n",
    ")\n",
    "nest_medium_coarse.drivers[\"slurb\"].ds = job_slurb.drivers[\"slurb\"].ds.reindex_like(\n",
    "    nest_medium_coarse.drivers[\"slurb\"].ds, method=\"nearest\"\n",
    ")\n",
    "nest_medium_coarse.drivers[\"slurb\"].ds[\"x\"] = (\n",
    "    nest_medium_coarse.drivers[\"slurb\"].ds[\"x\"]\n",
    "    - job_slurb.p3d[\"nesting_parameters\"][\"domain_layouts\"][11]\n",
    ")\n",
    "nest_medium_coarse.drivers[\"slurb\"].ds[\"y\"] = (\n",
    "    nest_medium_coarse.drivers[\"slurb\"].ds[\"y\"]\n",
    "    - job_slurb.p3d[\"nesting_parameters\"][\"domain_layouts\"][12]\n",
    ")"
   ]
  },
  {
   "cell_type": "markdown",
   "metadata": {},
   "source": [
    "### Dynamic driver\n"
   ]
  },
  {
   "cell_type": "markdown",
   "metadata": {},
   "source": [
    "For nests, we only need the initial soil profiles.\n"
   ]
  },
  {
   "cell_type": "code",
   "execution_count": null,
   "metadata": {},
   "outputs": [],
   "source": [
    "nest_medium_coarse.register_driver(\"dynamic\", Driver())\n",
    "nest_medium_coarse.drivers[\"dynamic\"].set_grid(\"uvws\", vertical=True)\n",
    "nest_medium_coarse.drivers[\"dynamic\"].set_zsoil()\n",
    "\n",
    "nest_medium_coarse.drivers[\"dynamic\"].ds[\"x\"] = (\n",
    "    nest_medium_coarse.drivers[\"dynamic\"].ds[\"x\"]\n",
    "    + job_slurb.p3d[\"nesting_parameters\"][\"domain_layouts\"][11]\n",
    ")\n",
    "nest_medium_coarse.drivers[\"dynamic\"].ds[\"y\"] = (\n",
    "    nest_medium_coarse.drivers[\"dynamic\"].ds[\"y\"]\n",
    "    + job_slurb.p3d[\"nesting_parameters\"][\"domain_layouts\"][12]\n",
    ")\n",
    "nest_medium_coarse.drivers[\"dynamic\"].ds[\"init_soil_t\"] = (\n",
    "    job_slurb.drivers[\"dynamic\"]\n",
    "    .ds[\"init_soil_t\"]\n",
    "    .reindex_like(nest_medium_coarse.drivers[\"dynamic\"].ds, method=\"nearest\")\n",
    ")\n",
    "nest_medium_coarse.drivers[\"dynamic\"].ds[\"init_soil_m\"] = (\n",
    "    job_slurb.drivers[\"dynamic\"]\n",
    "    .ds[\"init_soil_m\"]\n",
    "    .reindex_like(nest_medium_coarse.drivers[\"dynamic\"].ds, method=\"nearest\")\n",
    ")\n",
    "nest_medium_coarse.drivers[\"dynamic\"].ds[\"x\"] = (\n",
    "    nest_medium_coarse.drivers[\"dynamic\"].ds[\"x\"]\n",
    "    - job_slurb.p3d[\"nesting_parameters\"][\"domain_layouts\"][11]\n",
    ")\n",
    "nest_medium_coarse.drivers[\"dynamic\"].ds[\"y\"] = (\n",
    "    nest_medium_coarse.drivers[\"dynamic\"].ds[\"y\"]\n",
    "    - job_slurb.p3d[\"nesting_parameters\"][\"domain_layouts\"][12]\n",
    ")"
   ]
  },
  {
   "cell_type": "markdown",
   "metadata": {},
   "source": [
    "Interpolate initial state and geostrophic wind speed from the parent.\n"
   ]
  },
  {
   "cell_type": "code",
   "execution_count": null,
   "metadata": {},
   "outputs": [],
   "source": [
    "nest_medium_coarse.drivers[\"dynamic\"].ds[\"ls_forcing_ug\"] = (\n",
    "    job_slurb.drivers[\"dynamic\"]\n",
    "    .ds[\"ls_forcing_ug\"]\n",
    "    .interp(\n",
    "        z=nest_medium_coarse.drivers[\"dynamic\"].ds[\"z\"],\n",
    "        method=\"cubic\",\n",
    "        kwargs={\"fill_value\": \"extrapolate\"},\n",
    "    )\n",
    ")\n",
    "nest_medium_coarse.drivers[\"dynamic\"].ds[\"ls_forcing_vg\"] = (\n",
    "    job_slurb.drivers[\"dynamic\"]\n",
    "    .ds[\"ls_forcing_vg\"]\n",
    "    .interp(\n",
    "        z=nest_medium_coarse.drivers[\"dynamic\"].ds[\"z\"],\n",
    "        method=\"cubic\",\n",
    "        kwargs={\"fill_value\": \"extrapolate\"},\n",
    "    )\n",
    ")\n",
    "nest_medium_coarse.drivers[\"dynamic\"].ds[\"init_atmosphere_u\"] = (\n",
    "    job_slurb.drivers[\"dynamic\"]\n",
    "    .ds[\"init_atmosphere_u\"]\n",
    "    .interp(\n",
    "        z=nest_medium_coarse.drivers[\"dynamic\"].ds[\"z\"],\n",
    "        method=\"cubic\",\n",
    "        kwargs={\"fill_value\": \"extrapolate\"},\n",
    "    )\n",
    ")\n",
    "nest_medium_coarse.drivers[\"dynamic\"].ds[\"init_atmosphere_v\"] = (\n",
    "    job_slurb.drivers[\"dynamic\"]\n",
    "    .ds[\"init_atmosphere_v\"]\n",
    "    .interp(\n",
    "        z=nest_medium_coarse.drivers[\"dynamic\"].ds[\"z\"],\n",
    "        method=\"cubic\",\n",
    "        kwargs={\"fill_value\": \"extrapolate\"},\n",
    "    )\n",
    ")\n",
    "nest_medium_coarse.drivers[\"dynamic\"].ds[\"init_atmosphere_pt\"] = (\n",
    "    job_slurb.drivers[\"dynamic\"]\n",
    "    .ds[\"init_atmosphere_pt\"]\n",
    "    .interp(\n",
    "        z=nest_medium_coarse.drivers[\"dynamic\"].ds[\"z\"],\n",
    "        method=\"cubic\",\n",
    "        kwargs={\"fill_value\": \"extrapolate\"},\n",
    "    )\n",
    ")\n",
    "nest_medium_coarse.drivers[\"dynamic\"].ds[\"init_atmosphere_qv\"] = (\n",
    "    job_slurb.drivers[\"dynamic\"]\n",
    "    .ds[\"init_atmosphere_qv\"]\n",
    "    .interp(\n",
    "        z=nest_medium_coarse.drivers[\"dynamic\"].ds[\"z\"],\n",
    "        method=\"cubic\",\n",
    "        kwargs={\"fill_value\": \"extrapolate\"},\n",
    "    )\n",
    ")\n",
    "nest_medium_coarse.drivers[\"dynamic\"].ds[\"init_atmosphere_w\"] = (\n",
    "    job_slurb.drivers[\"dynamic\"]\n",
    "    .ds[\"init_atmosphere_w\"]\n",
    "    .interp(\n",
    "        zw=nest_medium_coarse.drivers[\"dynamic\"].ds[\"zw\"],\n",
    "        method=\"cubic\",\n",
    "        kwargs={\"fill_value\": \"extrapolate\"},\n",
    "    )\n",
    ")\n",
    "nest_medium_coarse.drivers[\"dynamic\"] = set_surface_pressure_to_dynamic(\n",
    "    nest_medium_coarse.drivers[\"dynamic\"], p0=1e5\n",
    ")"
   ]
  },
  {
   "cell_type": "markdown",
   "metadata": {},
   "source": [
    "Copy radiation inputs from root.\n"
   ]
  },
  {
   "cell_type": "code",
   "execution_count": null,
   "metadata": {},
   "outputs": [],
   "source": [
    "nest_medium_coarse.drivers[\"dynamic\"].ds[\"rad_sw_in\"] = job_slurb.drivers[\"dynamic\"].ds[\n",
    "    \"rad_sw_in\"\n",
    "]\n",
    "nest_medium_coarse.drivers[\"dynamic\"].ds[\"rad_lw_in\"] = job_slurb.drivers[\"dynamic\"].ds[\n",
    "    \"rad_lw_in\"\n",
    "]"
   ]
  },
  {
   "cell_type": "markdown",
   "metadata": {},
   "source": [
    "### Spinup parameters\n"
   ]
  },
  {
   "cell_type": "code",
   "execution_count": null,
   "metadata": {},
   "outputs": [],
   "source": [
    "nest_medium_coarse.p3d[\"initialization_parameters\"][\"spinup_pt_amplitude\"] = (\n",
    "    job_slurb.p3d[\"initialization_parameters\"][\"spinup_pt_amplitude\"]\n",
    ")\n",
    "nest_medium_coarse.p3d[\"initialization_parameters\"][\"spinup_pt_mean\"] = job_slurb.p3d[\n",
    "    \"initialization_parameters\"\n",
    "][\"spinup_pt_mean\"]\n",
    "nest_medium_coarse.p3dr[\"initialization_parameters\"][\"spinup_pt_amplitude\"] = (\n",
    "    job_slurb.p3d[\"initialization_parameters\"][\"spinup_pt_amplitude\"]\n",
    ")\n",
    "nest_medium_coarse.p3dr[\"initialization_parameters\"][\"spinup_pt_mean\"] = job_slurb.p3d[\n",
    "    \"initialization_parameters\"\n",
    "][\"spinup_pt_mean\"]"
   ]
  },
  {
   "cell_type": "markdown",
   "metadata": {},
   "source": [
    "## Medium-fine nest\n",
    "\n",
    "Repeat the same process as for the medium-coarse nest. I should have wrapped this into an external method.\n"
   ]
  },
  {
   "cell_type": "code",
   "execution_count": null,
   "metadata": {},
   "outputs": [],
   "source": [
    "nest_medium_fine = JobNest(root=job_slurb, nest_id=3)"
   ]
  },
  {
   "cell_type": "markdown",
   "metadata": {},
   "source": [
    "Set namelists for the nests.\n"
   ]
  },
  {
   "cell_type": "code",
   "execution_count": null,
   "metadata": {},
   "outputs": [],
   "source": [
    "nest_medium_fine.p3d = read_namelist(\n",
    "    Path(config.path.experiments.comparison) / \"shared_medium_fine_p3d.yml\"\n",
    ")\n",
    "update_dict_recursive(\n",
    "    nest_medium_fine.p3d,\n",
    "    read_namelist(\n",
    "        Path(config.path.experiments.comparison) / \"slurb_medium_fine_p3d.yml\"\n",
    "    ),\n",
    ")\n",
    "nest_medium_fine.p3dr = nest_medium_fine.p3d.copy()\n",
    "nest_medium_fine.p3dr[\"initialization_parameters\"][\"initializing_actions\"] = (\n",
    "    \"read_restart_data\"\n",
    ")"
   ]
  },
  {
   "cell_type": "markdown",
   "metadata": {},
   "source": [
    "### Static driver\n"
   ]
  },
  {
   "cell_type": "code",
   "execution_count": null,
   "metadata": {},
   "outputs": [],
   "source": [
    "# Refined domain for the medium nest by resampling\n",
    "nest_medium_fine.register_driver(\"static\", Driver())\n",
    "nest_medium_fine.drivers[\"static\"].set_grid(\"s\", vertical=False)\n",
    "# Offsetting the coordinates is required for reindex_like\n",
    "nest_medium_fine.drivers[\"static\"].ds[\"x\"] = (\n",
    "    nest_medium_fine.drivers[\"static\"].ds[\"x\"]\n",
    "    + job_slurb.p3d[\"nesting_parameters\"][\"domain_layouts\"][18]\n",
    ")\n",
    "nest_medium_fine.drivers[\"static\"].ds[\"y\"] = (\n",
    "    nest_medium_fine.drivers[\"static\"].ds[\"y\"]\n",
    "    + job_slurb.p3d[\"nesting_parameters\"][\"domain_layouts\"][19]\n",
    ")\n",
    "nest_medium_fine.drivers[\"static\"].ds = job_slurb.drivers[\"static\"].ds.reindex_like(\n",
    "    nest_medium_fine.drivers[\"static\"].ds, method=\"nearest\"\n",
    ")\n",
    "nest_medium_fine.drivers[\"static\"].ds[\"x\"] = (\n",
    "    nest_medium_fine.drivers[\"static\"].ds[\"x\"]\n",
    "    - job_slurb.p3d[\"nesting_parameters\"][\"domain_layouts\"][18]\n",
    ")\n",
    "nest_medium_fine.drivers[\"static\"].ds[\"y\"] = (\n",
    "    nest_medium_fine.drivers[\"static\"].ds[\"y\"]\n",
    "    - job_slurb.p3d[\"nesting_parameters\"][\"domain_layouts\"][19]\n",
    ")"
   ]
  },
  {
   "cell_type": "markdown",
   "metadata": {},
   "source": [
    "### SLUrb driver\n"
   ]
  },
  {
   "cell_type": "code",
   "execution_count": null,
   "metadata": {},
   "outputs": [],
   "source": [
    "nest_medium_fine.register_driver(\"slurb\", Driver())\n",
    "nest_medium_fine.drivers[\"slurb\"].set_grid(\"s\", vertical=False)\n",
    "nest_medium_fine.drivers[\"slurb\"].ds[\"x\"] = (\n",
    "    nest_medium_fine.drivers[\"slurb\"].ds[\"x\"]\n",
    "    + job_slurb.p3d[\"nesting_parameters\"][\"domain_layouts\"][18]\n",
    ")\n",
    "nest_medium_fine.drivers[\"slurb\"].ds[\"y\"] = (\n",
    "    nest_medium_fine.drivers[\"slurb\"].ds[\"y\"]\n",
    "    + job_slurb.p3d[\"nesting_parameters\"][\"domain_layouts\"][19]\n",
    ")\n",
    "nest_medium_fine.drivers[\"slurb\"].ds = job_slurb.drivers[\"slurb\"].ds.reindex_like(\n",
    "    nest_medium_fine.drivers[\"slurb\"].ds, method=\"nearest\"\n",
    ")\n",
    "nest_medium_fine.drivers[\"slurb\"].ds[\"x\"] = (\n",
    "    nest_medium_fine.drivers[\"slurb\"].ds[\"x\"]\n",
    "    - job_slurb.p3d[\"nesting_parameters\"][\"domain_layouts\"][18]\n",
    ")\n",
    "nest_medium_fine.drivers[\"slurb\"].ds[\"y\"] = (\n",
    "    nest_medium_fine.drivers[\"slurb\"].ds[\"y\"]\n",
    "    - job_slurb.p3d[\"nesting_parameters\"][\"domain_layouts\"][19]\n",
    ")"
   ]
  },
  {
   "cell_type": "markdown",
   "metadata": {},
   "source": [
    "### Dynamic driver\n"
   ]
  },
  {
   "cell_type": "code",
   "execution_count": null,
   "metadata": {},
   "outputs": [],
   "source": [
    "nest_medium_fine.register_driver(\"dynamic\", Driver())\n",
    "nest_medium_fine.drivers[\"dynamic\"].set_grid(\"uvws\", vertical=True)\n",
    "nest_medium_fine.drivers[\"dynamic\"].set_zsoil()\n",
    "\n",
    "nest_medium_fine.drivers[\"dynamic\"].ds[\"x\"] = (\n",
    "    nest_medium_fine.drivers[\"dynamic\"].ds[\"x\"]\n",
    "    + job_slurb.p3d[\"nesting_parameters\"][\"domain_layouts\"][18]\n",
    ")\n",
    "nest_medium_fine.drivers[\"dynamic\"].ds[\"y\"] = (\n",
    "    nest_medium_fine.drivers[\"dynamic\"].ds[\"y\"]\n",
    "    + job_slurb.p3d[\"nesting_parameters\"][\"domain_layouts\"][19]\n",
    ")\n",
    "nest_medium_fine.drivers[\"dynamic\"].ds[\"init_soil_t\"] = (\n",
    "    job_slurb.drivers[\"dynamic\"]\n",
    "    .ds[\"init_soil_t\"]\n",
    "    .reindex_like(nest_medium_fine.drivers[\"dynamic\"].ds, method=\"nearest\")\n",
    ")\n",
    "nest_medium_fine.drivers[\"dynamic\"].ds[\"init_soil_m\"] = (\n",
    "    job_slurb.drivers[\"dynamic\"]\n",
    "    .ds[\"init_soil_m\"]\n",
    "    .reindex_like(nest_medium_fine.drivers[\"dynamic\"].ds, method=\"nearest\")\n",
    ")\n",
    "nest_medium_fine.drivers[\"dynamic\"].ds[\"x\"] = (\n",
    "    nest_medium_fine.drivers[\"dynamic\"].ds[\"x\"]\n",
    "    - job_slurb.p3d[\"nesting_parameters\"][\"domain_layouts\"][18]\n",
    ")\n",
    "nest_medium_fine.drivers[\"dynamic\"].ds[\"y\"] = (\n",
    "    nest_medium_fine.drivers[\"dynamic\"].ds[\"y\"]\n",
    "    - job_slurb.p3d[\"nesting_parameters\"][\"domain_layouts\"][19]\n",
    ")"
   ]
  },
  {
   "cell_type": "markdown",
   "metadata": {},
   "source": [
    "Interpolate initial state and geostrophic wind speed from the parent.\n"
   ]
  },
  {
   "cell_type": "code",
   "execution_count": null,
   "metadata": {},
   "outputs": [],
   "source": [
    "nest_medium_fine.drivers[\"dynamic\"].ds[\"ls_forcing_ug\"] = (\n",
    "    job_slurb.drivers[\"dynamic\"]\n",
    "    .ds[\"ls_forcing_ug\"]\n",
    "    .interp(\n",
    "        z=nest_medium_fine.drivers[\"dynamic\"].ds[\"z\"],\n",
    "        method=\"cubic\",\n",
    "        kwargs={\"fill_value\": \"extrapolate\"},\n",
    "    )\n",
    ")\n",
    "nest_medium_fine.drivers[\"dynamic\"].ds[\"ls_forcing_vg\"] = (\n",
    "    job_slurb.drivers[\"dynamic\"]\n",
    "    .ds[\"ls_forcing_vg\"]\n",
    "    .interp(\n",
    "        z=nest_medium_fine.drivers[\"dynamic\"].ds[\"z\"],\n",
    "        method=\"cubic\",\n",
    "        kwargs={\"fill_value\": \"extrapolate\"},\n",
    "    )\n",
    ")\n",
    "nest_medium_fine.drivers[\"dynamic\"].ds[\"init_atmosphere_u\"] = (\n",
    "    job_slurb.drivers[\"dynamic\"]\n",
    "    .ds[\"init_atmosphere_u\"]\n",
    "    .interp(\n",
    "        z=nest_medium_fine.drivers[\"dynamic\"].ds[\"z\"],\n",
    "        method=\"cubic\",\n",
    "        kwargs={\"fill_value\": \"extrapolate\"},\n",
    "    )\n",
    ")\n",
    "nest_medium_fine.drivers[\"dynamic\"].ds[\"init_atmosphere_v\"] = (\n",
    "    job_slurb.drivers[\"dynamic\"]\n",
    "    .ds[\"init_atmosphere_v\"]\n",
    "    .interp(\n",
    "        z=nest_medium_fine.drivers[\"dynamic\"].ds[\"z\"],\n",
    "        method=\"cubic\",\n",
    "        kwargs={\"fill_value\": \"extrapolate\"},\n",
    "    )\n",
    ")\n",
    "nest_medium_fine.drivers[\"dynamic\"].ds[\"init_atmosphere_pt\"] = (\n",
    "    job_slurb.drivers[\"dynamic\"]\n",
    "    .ds[\"init_atmosphere_pt\"]\n",
    "    .interp(\n",
    "        z=nest_medium_fine.drivers[\"dynamic\"].ds[\"z\"],\n",
    "        method=\"cubic\",\n",
    "        kwargs={\"fill_value\": \"extrapolate\"},\n",
    "    )\n",
    ")\n",
    "nest_medium_fine.drivers[\"dynamic\"].ds[\"init_atmosphere_qv\"] = (\n",
    "    job_slurb.drivers[\"dynamic\"]\n",
    "    .ds[\"init_atmosphere_qv\"]\n",
    "    .interp(\n",
    "        z=nest_medium_fine.drivers[\"dynamic\"].ds[\"z\"],\n",
    "        method=\"cubic\",\n",
    "        kwargs={\"fill_value\": \"extrapolate\"},\n",
    "    )\n",
    ")\n",
    "nest_medium_fine.drivers[\"dynamic\"].ds[\"init_atmosphere_w\"] = (\n",
    "    job_slurb.drivers[\"dynamic\"]\n",
    "    .ds[\"init_atmosphere_w\"]\n",
    "    .interp(\n",
    "        zw=nest_medium_fine.drivers[\"dynamic\"].ds[\"zw\"],\n",
    "        method=\"cubic\",\n",
    "        kwargs={\"fill_value\": \"extrapolate\"},\n",
    "    )\n",
    ")\n",
    "nest_medium_fine.drivers[\"dynamic\"] = set_surface_pressure_to_dynamic(\n",
    "    nest_medium_fine.drivers[\"dynamic\"], p0=1e5\n",
    ")"
   ]
  },
  {
   "cell_type": "markdown",
   "metadata": {},
   "source": [
    "Copy radiation inputs from root.\n"
   ]
  },
  {
   "cell_type": "code",
   "execution_count": null,
   "metadata": {},
   "outputs": [],
   "source": [
    "nest_medium_fine.drivers[\"dynamic\"].ds[\"rad_sw_in\"] = job_slurb.drivers[\"dynamic\"].ds[\n",
    "    \"rad_sw_in\"\n",
    "]\n",
    "nest_medium_fine.drivers[\"dynamic\"].ds[\"rad_lw_in\"] = job_slurb.drivers[\"dynamic\"].ds[\n",
    "    \"rad_lw_in\"\n",
    "]"
   ]
  },
  {
   "cell_type": "markdown",
   "metadata": {},
   "source": [
    "### Spinup parameters\n"
   ]
  },
  {
   "cell_type": "code",
   "execution_count": null,
   "metadata": {},
   "outputs": [],
   "source": [
    "nest_medium_fine.p3d[\"initialization_parameters\"][\"spinup_pt_amplitude\"] = (\n",
    "    job_slurb.p3d[\"initialization_parameters\"][\"spinup_pt_amplitude\"]\n",
    ")\n",
    "nest_medium_fine.p3d[\"initialization_parameters\"][\"spinup_pt_mean\"] = job_slurb.p3d[\n",
    "    \"initialization_parameters\"\n",
    "][\"spinup_pt_mean\"]\n",
    "nest_medium_fine.p3dr[\"initialization_parameters\"][\"spinup_pt_amplitude\"] = (\n",
    "    job_slurb.p3d[\"initialization_parameters\"][\"spinup_pt_amplitude\"]\n",
    ")\n",
    "nest_medium_fine.p3dr[\"initialization_parameters\"][\"spinup_pt_mean\"] = job_slurb.p3d[\n",
    "    \"initialization_parameters\"\n",
    "][\"spinup_pt_mean\"]"
   ]
  },
  {
   "cell_type": "markdown",
   "metadata": {},
   "source": [
    "## Write job files to storage\n"
   ]
  },
  {
   "cell_type": "code",
   "execution_count": null,
   "metadata": {},
   "outputs": [],
   "source": [
    "job_slurb.write()"
   ]
  }
 ],
 "metadata": {
  "kernelspec": {
   "display_name": "slurb_experiments",
   "language": "python",
   "name": "python3"
  },
  "language_info": {
   "codemirror_mode": {
    "name": "ipython",
    "version": 3
   },
   "file_extension": ".py",
   "mimetype": "text/x-python",
   "name": "python",
   "nbconvert_exporter": "python",
   "pygments_lexer": "ipython3",
   "version": "3.12.3"
  }
 },
 "nbformat": 4,
 "nbformat_minor": 2
}
