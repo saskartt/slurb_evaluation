{
 "cells": [
  {
   "cell_type": "markdown",
   "metadata": {},
   "source": [
    "# Prepare land cover for the precursor run\n"
   ]
  },
  {
   "cell_type": "code",
   "execution_count": null,
   "metadata": {},
   "outputs": [],
   "source": [
    "%load_ext dotenv\n",
    "%dotenv\n",
    "%load_ext autoreload\n",
    "%autoreload 2"
   ]
  },
  {
   "cell_type": "code",
   "execution_count": null,
   "metadata": {},
   "outputs": [],
   "source": [
    "from src.config import get_config, get_dask_cluster\n",
    "from src.job_generation import dict_to_intarraymap\n",
    "\n",
    "config = get_config()\n",
    "cluster, client = get_dask_cluster(config)"
   ]
  },
  {
   "cell_type": "code",
   "execution_count": null,
   "metadata": {},
   "outputs": [],
   "source": [
    "from functools import partial\n",
    "from pathlib import Path\n",
    "\n",
    "import dask.array\n",
    "import numpy as np\n",
    "import pandas as pd\n",
    "import xarray as xr\n",
    "import yaml"
   ]
  },
  {
   "cell_type": "markdown",
   "metadata": {},
   "source": [
    "## Preprocess Corine 100 m raster dataset\n"
   ]
  },
  {
   "cell_type": "code",
   "execution_count": null,
   "metadata": {},
   "outputs": [],
   "source": [
    "clc_raster = xr.open_dataset(\n",
    "    config.path.data.raw + \"corine_land_cover/U2018_CLC2018_V2020_20u1.tif\",\n",
    "    engine=\"rasterio\",\n",
    "    chunks={\"x\": \"auto\", \"y\": -1},\n",
    ")\n",
    "clc_raster[\"band_data\"] = clc_raster[\"band_data\"]"
   ]
  },
  {
   "cell_type": "markdown",
   "metadata": {},
   "source": [
    "We use a section from the central Europe as our representative land area (area of interest, AOI).\n"
   ]
  },
  {
   "cell_type": "code",
   "execution_count": null,
   "metadata": {},
   "outputs": [],
   "source": [
    "aoi = {\"miny\": 45.0, \"maxy\": 55.0, \"minx\": 0.0, \"maxx\": 20.0, \"crs\": \"EPSG:4326\"}"
   ]
  },
  {
   "cell_type": "code",
   "execution_count": null,
   "metadata": {},
   "outputs": [],
   "source": [
    "clc_raster = clc_raster.rio.clip_box(**aoi)"
   ]
  },
  {
   "cell_type": "markdown",
   "metadata": {},
   "source": [
    "Next, compute the prevalence of each land cover class in the area of interest.\n"
   ]
  },
  {
   "cell_type": "code",
   "execution_count": null,
   "metadata": {},
   "outputs": [],
   "source": [
    "clc_raster[\"band_data\"] = clc_raster[\"band_data\"].fillna(-127).astype(np.int8)\n",
    "lc_classes, lc_class_counts = dask.array.unique(\n",
    "    clc_raster[\"band_data\"].fillna(-127).data, return_counts=True\n",
    ")\n",
    "lc_classes_lc_class_counts = xr.apply_ufunc(\n",
    "    partial(np.unique, return_counts=True), clc_raster[\"band_data\"], dask=\"parallelized\"\n",
    ")\n",
    "# lc_classes = lc_classes.astype(np.uint8)\n",
    "lc_classes.compute()\n",
    "# lc_class_counts = lc_class_counts.astype(np.uint8)\n",
    "lc_class_counts.compute()\n",
    "lc_classes = np.array(lc_classes)\n",
    "lc_class_counts = np.array(lc_class_counts)"
   ]
  },
  {
   "cell_type": "markdown",
   "metadata": {},
   "source": [
    "Get the classification labels from a legend file. Shift is required to align the data with unique() output.\n"
   ]
  },
  {
   "cell_type": "code",
   "execution_count": null,
   "metadata": {},
   "outputs": [],
   "source": [
    "legend = pd.read_csv(\n",
    "    config.path.data.raw + \"corine_land_cover/CLC2018_CLC2018_V2018_20_QGIS.txt\",\n",
    "    names=[\"ID\", \"R\", \"G\", \"B\", \"A\", \"Class\"],\n",
    ").shift()\n",
    "legend.loc[0, \"ID\"] = -127\n",
    "legend[\"ID\"] = legend[\"ID\"].astype(int)"
   ]
  },
  {
   "cell_type": "markdown",
   "metadata": {},
   "source": [
    "Finally, merge the classes with the counts.\n"
   ]
  },
  {
   "cell_type": "code",
   "execution_count": null,
   "metadata": {},
   "outputs": [],
   "source": [
    "lcs = pd.concat([legend, pd.Series(lc_class_counts, name=\"Count\")], axis=1).set_index(\n",
    "    \"ID\"\n",
    ")\n",
    "lcs"
   ]
  },
  {
   "cell_type": "markdown",
   "metadata": {},
   "source": [
    "## Land cover class mapping\n",
    "\n",
    "The Corine classification needs to be mapped to PALM-LSM classification, which follows that of H-TESSEL (ECMWF's IFS). We read the mapping from a config file individually for vegetation and water surfaces. The latter is not technically categorized, but is needed for computing surface fractions. Note that the water surfaces in Corine include only inland waters and coastal seawater, thus the real water fraction in our AOI is significantly. However, this is fine as we do not really want to simulate coastal/marine boundary layer, but rather a representative land boundary layer with some contribution from water surfaces.\n"
   ]
  },
  {
   "cell_type": "code",
   "execution_count": null,
   "metadata": {},
   "outputs": [],
   "source": [
    "with open(\n",
    "    config.path.data.raw + \"corine_land_cover/corine_to_lsm_mapping.yml\"\n",
    ") as map_file:\n",
    "    mapping = yaml.safe_load(map_file)\n",
    "vegetation_mapping = dict_to_intarraymap(mapping[\"vegetation\"])\n",
    "water_mapping = dict_to_intarraymap(mapping[\"water\"])"
   ]
  },
  {
   "cell_type": "markdown",
   "metadata": {},
   "source": [
    "Apply the mapping and count occurrence and fractions for the target categories.\n"
   ]
  },
  {
   "cell_type": "code",
   "execution_count": null,
   "metadata": {},
   "outputs": [],
   "source": [
    "lcs_vegetation = lcs.copy()\n",
    "lcs_vegetation.index = lcs_vegetation.index.map(\n",
    "    lambda x: vegetation_mapping.get(x, -127)\n",
    ")\n",
    "lcs_vegetation = lcs_vegetation.loc[:, [\"Count\"]].groupby(\"ID\").sum().drop(-127)\n",
    "lcs_vegetation[\"Fraction\"] = lcs_vegetation[\"Count\"] / lcs_vegetation[\"Count\"].sum()\n",
    "lcs_vegetation"
   ]
  },
  {
   "cell_type": "code",
   "execution_count": null,
   "metadata": {},
   "outputs": [],
   "source": [
    "lcs_water = lcs.copy()\n",
    "lcs_water.index = lcs_water.index.map(lambda x: water_mapping.get(x, -127))\n",
    "lcs_water = lcs_water.loc[:, [\"Count\"]].groupby(\"ID\").sum().drop(-127)\n",
    "lcs_water[\"Fraction\"] = lcs_water[\"Count\"] / lcs_water[\"Count\"].sum()\n",
    "lcs_water"
   ]
  },
  {
   "cell_type": "code",
   "execution_count": null,
   "metadata": {},
   "outputs": [],
   "source": [
    "surface_fraction = pd.DataFrame(\n",
    "    [],\n",
    "    index=pd.Series([\"Vegetation\", \"Water\"], name=\"Surface type\"),\n",
    "    columns=[\"Count\", \"Fraction\"],\n",
    ")\n",
    "surface_fraction.loc[\"Vegetation\", \"Count\"] = lcs_vegetation.loc[:, \"Count\"].sum()\n",
    "surface_fraction.loc[\"Water\", \"Count\"] = lcs_water.loc[:, \"Count\"].sum()\n",
    "surface_fraction.loc[:, \"Fraction\"] = (\n",
    "    surface_fraction.loc[:, \"Count\"] / surface_fraction.loc[:, \"Count\"].sum()\n",
    ")\n",
    "surface_fraction"
   ]
  },
  {
   "cell_type": "markdown",
   "metadata": {},
   "source": [
    "Store these for later usage in job generation.\n"
   ]
  },
  {
   "cell_type": "markdown",
   "metadata": {},
   "source": [
    "## Soil type\n",
    "\n",
    "These are derived from the ERA5 data. We take the same area of interest, and compute the most prevalence of soil types.\n"
   ]
  },
  {
   "cell_type": "code",
   "execution_count": null,
   "metadata": {},
   "outputs": [],
   "source": [
    "era5_st = xr.open_dataset(\n",
    "    config.path.data.raw + \"era5-land/era5-land_soil_type.grib\", engine=\"cfgrib\"\n",
    ")\n",
    "era5_st = era5_st.where(era5_st.longitude >= aoi[\"minx\"], drop=True)\n",
    "era5_st = era5_st.where(era5_st.longitude <= aoi[\"maxx\"], drop=True)\n",
    "era5_st = era5_st.where(era5_st.latitude >= aoi[\"miny\"], drop=True)\n",
    "era5_st = era5_st.where(era5_st.latitude <= aoi[\"maxy\"], drop=True)\n",
    "era5_st[\"slt\"] = era5_st.slt.astype(np.int8)"
   ]
  },
  {
   "cell_type": "code",
   "execution_count": null,
   "metadata": {},
   "outputs": [],
   "source": [
    "elem, count = np.unique(era5_st[\"slt\"], return_counts=True)\n",
    "soil_type = pd.concat(\n",
    "    [pd.Series(elem, name=\"ID\"), pd.Series(count, name=\"Count\")], axis=1\n",
    ").set_index(\"ID\")\n",
    "soil_type"
   ]
  },
  {
   "cell_type": "markdown",
   "metadata": {},
   "source": [
    "## Storing the interim data\n"
   ]
  },
  {
   "cell_type": "code",
   "execution_count": null,
   "metadata": {},
   "outputs": [],
   "source": [
    "data_path = Path(config.path.data.interim) / \"land_cover\"\n",
    "data_path.mkdir(parents=True, exist_ok=True)\n",
    "lcs_vegetation.to_csv(data_path / \"vegetation_fractions.csv\")\n",
    "lcs_water.to_csv(data_path / \"water_fractions.csv\")\n",
    "surface_fraction.to_csv(data_path / \"surface_fractions.csv\")\n",
    "soil_type.to_csv(data_path / \"soil_fractions.csv\")"
   ]
  }
 ],
 "metadata": {
  "kernelspec": {
   "display_name": "slurb_experiments",
   "language": "python",
   "name": "python3"
  },
  "language_info": {
   "codemirror_mode": {
    "name": "ipython",
    "version": 3
   },
   "file_extension": ".py",
   "mimetype": "text/x-python",
   "name": "python",
   "nbconvert_exporter": "python",
   "pygments_lexer": "ipython3",
   "version": "3.12.3"
  }
 },
 "nbformat": 4,
 "nbformat_minor": 2
}
