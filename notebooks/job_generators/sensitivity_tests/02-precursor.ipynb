{
 "cells": [
  {
   "cell_type": "markdown",
   "metadata": {},
   "source": [
    "# Job generator for sensitivity test precursor run\n"
   ]
  },
  {
   "cell_type": "code",
   "execution_count": null,
   "metadata": {
    "execution": {
     "iopub.execute_input": "2024-02-23T13:44:40.193749Z",
     "iopub.status.busy": "2024-02-23T13:44:40.193490Z",
     "iopub.status.idle": "2024-02-23T13:44:40.206561Z",
     "shell.execute_reply": "2024-02-23T13:44:40.205638Z"
    }
   },
   "outputs": [],
   "source": [
    "%load_ext dotenv\n",
    "%dotenv\n",
    "%load_ext autoreload\n",
    "%autoreload 2"
   ]
  },
  {
   "cell_type": "code",
   "execution_count": null,
   "metadata": {
    "execution": {
     "iopub.execute_input": "2024-02-23T13:44:40.210754Z",
     "iopub.status.busy": "2024-02-23T13:44:40.210496Z",
     "iopub.status.idle": "2024-02-23T13:44:40.238983Z",
     "shell.execute_reply": "2024-02-23T13:44:40.237948Z"
    }
   },
   "outputs": [],
   "source": [
    "from pathlib import Path\n",
    "from src.config import get_config, get_rng\n",
    "\n",
    "config = get_config()"
   ]
  },
  {
   "cell_type": "code",
   "execution_count": null,
   "metadata": {
    "execution": {
     "iopub.execute_input": "2024-02-23T13:44:40.316359Z",
     "iopub.status.busy": "2024-02-23T13:44:40.315932Z",
     "iopub.status.idle": "2024-02-23T13:44:40.807876Z",
     "shell.execute_reply": "2024-02-23T13:44:40.806952Z"
    }
   },
   "outputs": [],
   "source": [
    "import xarray as xr\n",
    "import pandas as pd\n",
    "import numpy as np\n",
    "from scipy.interpolate import CubicSpline\n",
    "from scipy.ndimage import gaussian_filter\n",
    "\n",
    "from src.job_generation import (\n",
    "    Job,\n",
    "    read_namelist,\n",
    "    Driver,\n",
    "    set_radiation_to_dynamic,\n",
    "    set_surface_pressure_to_dynamic,\n",
    "    get_nest_mask,\n",
    ")"
   ]
  },
  {
   "cell_type": "code",
   "execution_count": null,
   "metadata": {},
   "outputs": [],
   "source": [
    "rng = get_rng(config)  # Ensure reproducibility"
   ]
  },
  {
   "cell_type": "markdown",
   "metadata": {},
   "source": [
    "## Initial setup of data structures for inputs\n"
   ]
  },
  {
   "cell_type": "code",
   "execution_count": null,
   "metadata": {},
   "outputs": [],
   "source": [
    "job = Job(\"slurb_pre_default\")\n",
    "job.p3d = read_namelist(\n",
    "    Path(config.path.experiments.sensitivity) / \"precursor_default_p3d.yml\"\n",
    ")"
   ]
  },
  {
   "cell_type": "markdown",
   "metadata": {},
   "source": [
    "Add restart configuration for the run, cutting the simulation in half just before the high-frequency data output begins.\n"
   ]
  },
  {
   "cell_type": "code",
   "execution_count": null,
   "metadata": {},
   "outputs": [],
   "source": [
    "job.p3dr = read_namelist(\n",
    "    Path(config.path.experiments.sensitivity) / \"precursor_default_p3d.yml\"\n",
    ")"
   ]
  },
  {
   "cell_type": "code",
   "execution_count": null,
   "metadata": {},
   "outputs": [],
   "source": [
    "static_driver = Driver()\n",
    "job.register_driver(\"static\", static_driver)"
   ]
  },
  {
   "cell_type": "code",
   "execution_count": null,
   "metadata": {},
   "outputs": [],
   "source": [
    "static_driver.set_grid(\"s\", vertical=False)\n",
    "static_driver.set_attrs(\n",
    "    Path(config.path.experiments.sensitivity) / \"global_attributes.yml\"\n",
    ")\n",
    "static_driver"
   ]
  },
  {
   "cell_type": "markdown",
   "metadata": {},
   "source": [
    "For dynamic driver, we only need the vertical grid for 1D initial profiles (not very dynamic _per se_). For radiation forcing, we'll use one minute temporal resolution for the time dimension, to which we'll interpolate radiation inputs with spline interpolation.\n"
   ]
  },
  {
   "cell_type": "markdown",
   "metadata": {},
   "source": []
  },
  {
   "cell_type": "code",
   "execution_count": null,
   "metadata": {},
   "outputs": [],
   "source": [
    "dynamic_driver = Driver()\n",
    "job.register_driver(\"dynamic\", dynamic_driver)\n",
    "dynamic_driver.set_grid()\n",
    "dynamic_driver.set_zsoil()\n",
    "dynamic_driver.set_time(freq=\"1min\", coord=\"time_rad\")\n",
    "dynamic_driver.set_time(freq=\"1h\", coord=\"time\")\n",
    "dynamic_driver.set_attrs(\n",
    "    Path(config.path.experiments.sensitivity) / \"global_attributes.yml\"\n",
    ")"
   ]
  },
  {
   "cell_type": "markdown",
   "metadata": {},
   "source": [
    "## Surface description for the static driver\n"
   ]
  },
  {
   "cell_type": "markdown",
   "metadata": {},
   "source": [
    "### Surface fraction\n",
    "\n",
    "We'll use all-vegetation surface, corresponding to surface fraction index 1.\n"
   ]
  },
  {
   "cell_type": "code",
   "execution_count": null,
   "metadata": {},
   "outputs": [],
   "source": [
    "static_driver.ds = static_driver.ds.assign_coords(\n",
    "    nsurface_fraction=np.arange(3, dtype=np.int8)\n",
    ")\n",
    "static_driver.ds = static_driver.ds.assign_coords(\n",
    "    nvegetation_pars=np.arange(12, dtype=np.int8)\n",
    ")\n",
    "static_driver.ds[\"surface_fraction\"] = (\n",
    "    (\"nsurface_fraction\", \"y\", \"x\"),\n",
    "    np.full(\n",
    "        (\n",
    "            static_driver.ds.nsurface_fraction.size,\n",
    "            static_driver.ds.y.size,\n",
    "            static_driver.ds.x.size,\n",
    "        ),\n",
    "        0,\n",
    "        dtype=np.int8,\n",
    "    ),\n",
    ")\n",
    "static_driver.ds[\"vegetation_pars\"] = (\n",
    "    (\"nvegetation_pars\", \"y\", \"x\"),\n",
    "    np.full(\n",
    "        (\n",
    "            static_driver.ds.nvegetation_pars.size,\n",
    "            static_driver.ds.y.size,\n",
    "            static_driver.ds.x.size,\n",
    "        ),\n",
    "        -9999.0,\n",
    "        dtype=np.float32,\n",
    "    ),\n",
    ")\n",
    "static_driver.ds[\"surface_fraction\"][0, :, :] = 1\n",
    "static_driver.ds[\"surface_fraction\"].attrs[\"long_name\"] = \"surface fraction\"\n",
    "static_driver.ds[\"surface_fraction\"].attrs[\"units\"] = \"1\""
   ]
  },
  {
   "cell_type": "markdown",
   "metadata": {},
   "source": [
    "### Vegetation type\n",
    "\n",
    "For vegetation type, we sample the pre-computed vegetation type fractions with a Gaussian field to have some spatial autocorrelation.\n"
   ]
  },
  {
   "cell_type": "code",
   "execution_count": null,
   "metadata": {},
   "outputs": [],
   "source": [
    "vegetation_fractions = pd.read_csv(\n",
    "    Path(config.path.data.interim) / \"land_cover\" / \"vegetation_fractions.csv\",\n",
    "    index_col=0,\n",
    ")"
   ]
  },
  {
   "cell_type": "code",
   "execution_count": null,
   "metadata": {},
   "outputs": [],
   "source": [
    "npatches = 128\n",
    "patch_centers = rng.integers(0, 256, size=(npatches, 2))\n",
    "patch_values = rng.choice(\n",
    "    vegetation_fractions.index, p=vegetation_fractions[\"Fraction\"], size=(npatches,)\n",
    ")\n",
    "\n",
    "x = np.arange(256)\n",
    "y = np.arange(256)\n",
    "xx, yy = np.meshgrid(x, y)\n",
    "vegetation_type = np.zeros((256, 256), dtype=int)\n",
    "for i in range(256):\n",
    "    for j in range(256):\n",
    "        distances = np.sqrt(\n",
    "            (xx[i, j] - patch_centers[:, 0]) ** 2\n",
    "            + (yy[i, j] - patch_centers[:, 1]) ** 2\n",
    "        )\n",
    "        # Find the index of the nearest point\n",
    "        nearest_point_id = np.argmin(distances)\n",
    "        # Store the ID in the array\n",
    "        vegetation_type[i, j] = patch_values[nearest_point_id]"
   ]
  },
  {
   "cell_type": "code",
   "execution_count": null,
   "metadata": {},
   "outputs": [],
   "source": [
    "static_driver.ds[\"vegetation_type\"] = (\n",
    "    (\"y\", \"x\"),\n",
    "    vegetation_type,\n",
    ")\n",
    "static_driver.ds[\"vegetation_type\"] = static_driver.ds[\"vegetation_type\"].where(\n",
    "    static_driver.ds.surface_fraction[0, :, :] == 1, other=-127\n",
    ")\n",
    "static_driver.ds[\"vegetation_type\"].attrs[\"long_name\"] = (\n",
    "    \"vegetation type classification\"\n",
    ")\n",
    "static_driver.ds[\"vegetation_type\"].attrs[\"units\"] = \"1\"\n",
    "static_driver.ds[\"vegetation_type\"].plot.imshow(cmap=\"tab10\")"
   ]
  },
  {
   "cell_type": "code",
   "execution_count": null,
   "metadata": {},
   "outputs": [],
   "source": [
    "static_driver.ds[\"water_type\"] = (\n",
    "    (\"y\", \"x\"),\n",
    "    np.full((static_driver.ds.y.size, static_driver.ds.x.size), 1),\n",
    ")\n",
    "static_driver.ds[\"water_type\"] = static_driver.ds[\"water_type\"].where(\n",
    "    static_driver.ds.surface_fraction[2, :, :] == 1, other=-127\n",
    ")\n",
    "static_driver.ds[\"water_type\"].attrs[\"long_name\"] = \"water type classification\"\n",
    "static_driver.ds[\"water_type\"].attrs[\"units\"] = \"1\"\n",
    "\n",
    "\n",
    "static_driver.ds[\"pavement_type\"] = (\n",
    "    (\"y\", \"x\"),\n",
    "    np.full((static_driver.ds.y.size, static_driver.ds.x.size), -127),\n",
    ")\n",
    "static_driver.ds[\"pavement_type\"] = static_driver.ds[\"pavement_type\"].where(\n",
    "    static_driver.ds.surface_fraction[1, :, :] == 1, other=-127\n",
    ")\n",
    "static_driver.ds[\"pavement_type\"].attrs[\"long_name\"] = \"pavement type classification\"\n",
    "static_driver.ds[\"pavement_type\"].attrs[\"units\"] = \"1\""
   ]
  },
  {
   "cell_type": "markdown",
   "metadata": {},
   "source": [
    "### Soil type\n",
    "\n",
    "For soil type, we simply want to use the most prevalent (modal value) soil type.\n"
   ]
  },
  {
   "cell_type": "code",
   "execution_count": null,
   "metadata": {},
   "outputs": [],
   "source": [
    "soil_fractions = pd.read_csv(\n",
    "    Path(config.path.data.interim) / \"land_cover\" / \"soil_fractions.csv\",\n",
    "    index_col=0,\n",
    ")\n",
    "soil_type = soil_fractions.iloc[soil_fractions[\"Count\"].argmax()]"
   ]
  },
  {
   "cell_type": "code",
   "execution_count": null,
   "metadata": {},
   "outputs": [],
   "source": [
    "static_driver.ds[\"soil_type\"] = (\n",
    "    (\"y\", \"x\"),\n",
    "    np.full(\n",
    "        (static_driver.ds.y.size, static_driver.ds.x.size),\n",
    "        np.int8(soil_type.name),\n",
    "    ),\n",
    ")\n",
    "static_driver.ds[\"soil_type\"] = static_driver.ds.soil_type.where(\n",
    "    static_driver.ds.surface_fraction[0, :, :] == 1, other=np.int8(-127)\n",
    ")\n",
    "static_driver.ds[\"soil_type\"].attrs[\"lod\"] = 1\n",
    "static_driver.ds[\"soil_type\"].attrs[\"long_name\"] = \"soil type classification\"\n",
    "static_driver.ds[\"soil_type\"].attrs[\"units\"] = \"1\""
   ]
  },
  {
   "cell_type": "markdown",
   "metadata": {},
   "source": [
    "## Initial states for soil temperature and soil moisture\n",
    "\n",
    "Initial states will be derived from a 10-year monthly average (March 2013-2022) by hour of day (00Z, PALM simulation initialization time). The area of interest is the same region over Central Europe as used when computing the surface fractions (bounding box lat=45,55;lon=0,20), the sub-region was extracted when data was downloaded from the CDS.\n"
   ]
  },
  {
   "cell_type": "markdown",
   "metadata": {},
   "source": [
    "## Initial soil temperature and moisture\n"
   ]
  },
  {
   "cell_type": "markdown",
   "metadata": {},
   "source": [
    "Reading ERA5 grib file with cfgrib engine needs a bit of a workaround, as data from separate levels cannot be read in at the same time.\n"
   ]
  },
  {
   "cell_type": "code",
   "execution_count": null,
   "metadata": {},
   "outputs": [],
   "source": [
    "soil_t_m = xr.Dataset()\n",
    "era5_surf = xr.open_dataset(\n",
    "    config.path.data.raw + \"era5/era5_march_2013-2022_surf_diurnal.nc\"\n",
    ")\n",
    "for var in [\"stl1\", \"stl2\", \"stl3\", \"stl4\", \"swvl1\", \"swvl2\", \"swvl3\", \"swvl4\"]:\n",
    "    temp = xr.open_dataset(\n",
    "        config.path.data.raw + \"era5-land/era5-land_march_2013-2022_soil_00Z.grib\",\n",
    "        engine=\"cfgrib\",\n",
    "        filter_by_keys={\"shortName\": var},\n",
    "    )\n",
    "    temp = temp.rename({\"depthBelowLandLayer\": f\"depthBelowLandLayer_{var}\"})\n",
    "    soil_t_m = xr.merge([soil_t_m, temp])\n",
    "soil_t_m = xr.merge([soil_t_m, era5_surf[\"z\"].mean(dim=\"time\").interp_like(soil_t_m)])\n",
    "soil_t_m = soil_t_m.where(soil_t_m[\"z\"] / 9.80665 < 512.0)"
   ]
  },
  {
   "cell_type": "markdown",
   "metadata": {},
   "source": [
    "Assing the soil layer into proper coordinates instead of separate values and then interpolate to desired 8-layer configuration. For soil moisture, we use the 0.25 quantile value instead of mean value to reflect the cloud-free case we are simulating.\n"
   ]
  },
  {
   "cell_type": "code",
   "execution_count": null,
   "metadata": {},
   "outputs": [],
   "source": [
    "soil_t_m = soil_t_m.assign_coords(zsoil=[0.035, 0.175, 0.64, 1.945])\n",
    "soil_t_m[\"init_soil_t\"] = xr.concat(\n",
    "    [soil_t_m.stl1, soil_t_m.stl2, soil_t_m.stl3, soil_t_m.stl4], dim=\"zsoil1\"\n",
    ")\n",
    "soil_t_m[\"init_soil_m\"] = xr.concat(\n",
    "    [soil_t_m.swvl1, soil_t_m.swvl2, soil_t_m.swvl3, soil_t_m.swvl4],\n",
    "    dim=\"zsoil1\",\n",
    ")\n",
    "soil_t_m = soil_t_m.interp(zsoil1=dynamic_driver.ds.zsoil)\n",
    "soil_t_m[\"init_soil_m\"] = soil_t_m[\"init_soil_m\"].quantile(\n",
    "    0.25, dim=(\"time\", \"latitude\", \"longitude\")\n",
    ")\n",
    "soil_t_m = soil_t_m.mean(dim=(\"time\", \"latitude\", \"longitude\"))\n",
    "soil_t_m"
   ]
  },
  {
   "cell_type": "markdown",
   "metadata": {},
   "source": []
  },
  {
   "cell_type": "code",
   "execution_count": null,
   "metadata": {},
   "outputs": [],
   "source": [
    "dynamic_driver.ds[\"init_soil_t\"] = (\n",
    "    (\"zsoil\",),\n",
    "    soil_t_m.init_soil_t.data,\n",
    ")\n",
    "dynamic_driver.ds[\"init_soil_m\"] = (\n",
    "    (\"zsoil\",),\n",
    "    soil_t_m.init_soil_m.data,\n",
    ")\n",
    "dynamic_driver.ds[\"init_soil_t\"].attrs[\"lod\"] = 1\n",
    "dynamic_driver.ds[\"init_soil_t\"].attrs[\"units\"] = \"K\"\n",
    "dynamic_driver.ds[\"init_soil_t\"].attrs[\"long_name\"] = \"initial soil temperature\"\n",
    "dynamic_driver.ds[\"init_soil_m\"].attrs[\"lod\"] = 1\n",
    "dynamic_driver.ds[\"init_soil_m\"].attrs[\"units\"] = \"m**3 m**-3\"\n",
    "dynamic_driver.ds[\"init_soil_m\"].attrs[\"long_name\"] = \"initial soil volumetric moisture\""
   ]
  },
  {
   "cell_type": "markdown",
   "metadata": {},
   "source": [
    "## Atmospheric initial state\n",
    "\n",
    "The atmospheric initial state is derived similarly to the surface initial state. A 10-year monthly average (March 2013-2022) by hour of day (00Z, PALM simulation initialization time) is used. As the ERA5 data is from pressure levels, the vertical coordinate is first transformed to Cartesian. After this, the initial 1D profiles are interpolated from the data.\n"
   ]
  },
  {
   "cell_type": "code",
   "execution_count": null,
   "metadata": {},
   "outputs": [],
   "source": [
    "era5_atm = xr.open_dataset(\n",
    "    config.path.data.raw + \"era5/era5_march_2013-2022_pres_00Z.nc\"\n",
    ")\n",
    "era5_surf = xr.open_dataset(\n",
    "    config.path.data.raw + \"era5/era5_march_2013-2022_surf_diurnal.nc\"\n",
    ")\n",
    "g = 9.80665\n",
    "era5_surf[\"z\"] = era5_surf[\"z\"].where(era5_surf[\"z\"] > 0.0, other=0.0)\n",
    "era5_atm[\"phi\"] = era5_atm[\"z\"].copy()  # true geopotential\n",
    "era5_atm[\"z\"] = (\n",
    "    era5_atm.z - era5_surf[\"z\"].isel(time=0)\n",
    ") / g  # geopotential height from orography top\n",
    "era5_atm[\"pt\"] = era5_atm.t * (1000.0 / era5_atm.level) ** 0.286\n",
    "# era5_atm = era5_atm.mean(dim=(\"longitude\", \"latitude\", \"time\"))\n",
    "era5_atm = era5_atm.reindex(level=list(reversed(era5_atm.level)))"
   ]
  },
  {
   "cell_type": "markdown",
   "metadata": {},
   "source": [
    "Mask out terrain over 512 m.\n"
   ]
  },
  {
   "cell_type": "code",
   "execution_count": null,
   "metadata": {},
   "outputs": [],
   "source": [
    "era5_atm = era5_atm.where(era5_surf.z.isel(time=0) / 9.81 < 512.0)"
   ]
  },
  {
   "cell_type": "markdown",
   "metadata": {},
   "source": [
    "First, compute geostrophic wind, as it is easier in the pressure coordinates.\n"
   ]
  },
  {
   "cell_type": "code",
   "execution_count": null,
   "metadata": {},
   "outputs": [],
   "source": [
    "omega = 7.2921e-5\n",
    "a = 6371e3\n",
    "era5_atm[\"latitude\"] = np.deg2rad(era5_atm[\"latitude\"])\n",
    "era5_atm[\"longitude\"] = np.deg2rad(era5_atm[\"longitude\"])\n",
    "era5_atm[\"f\"] = 2.0 * omega * np.sin(era5_atm[\"latitude\"])\n",
    "era5_atm[\"u_g\"] = (\n",
    "    -1 / era5_atm[\"f\"] * 1.0 / a * era5_atm[\"phi\"].differentiate(coord=\"latitude\")\n",
    ")\n",
    "era5_atm[\"v_g\"] = (\n",
    "    1\n",
    "    / era5_atm[\"f\"]\n",
    "    * 1.0\n",
    "    / (a * np.cos(era5_atm[\"latitude\"]))\n",
    "    * era5_atm[\"phi\"].differentiate(coord=\"longitude\")\n",
    ")"
   ]
  },
  {
   "cell_type": "code",
   "execution_count": null,
   "metadata": {},
   "outputs": [],
   "source": [
    "era5_atm = era5_atm.assign_coords(height=dynamic_driver.ds.z.data)\n",
    "\n",
    "\n",
    "# Slightly awkward loop\n",
    "def interp_column(ds: xr.Dataset, source: str, target: str):\n",
    "    ds[target] = (\n",
    "        (\"time\", \"longitude\", \"latitude\", \"height\"),\n",
    "        np.full(\n",
    "            (ds.time.size, ds.longitude.size, ds.latitude.size, ds.height.size),\n",
    "            np.nan,\n",
    "        ),\n",
    "    )\n",
    "    for it, iy, ix in np.ndindex((ds.time.size, ds.longitude.size, ds.latitude.size)):\n",
    "        var = ds[source].isel(time=it, longitude=iy, latitude=ix)\n",
    "        z = ds[\"z\"].isel(time=it, longitude=iy, latitude=ix)\n",
    "        if any(np.isnan(z)) or any(np.isnan(var.data)):\n",
    "            continue\n",
    "        cs_var = CubicSpline(z, var.data)\n",
    "        ds[target][it, iy, ix] = cs_var(ds.height)\n",
    "\n",
    "\n",
    "interp_column(era5_atm, \"u\", \"u_z\")\n",
    "interp_column(era5_atm, \"v\", \"v_z\")\n",
    "interp_column(era5_atm, \"u_g\", \"u_g_z\")\n",
    "interp_column(era5_atm, \"v_g\", \"v_g_z\")\n",
    "interp_column(era5_atm, \"pt\", \"pt_z\")\n",
    "interp_column(era5_atm, \"q\", \"q_z\")\n",
    "era5_atm"
   ]
  },
  {
   "cell_type": "code",
   "execution_count": null,
   "metadata": {},
   "outputs": [],
   "source": [
    "era5_atm[\"v_z\"].mean(dim=(\"time\", \"longitude\", \"latitude\")).plot.line()"
   ]
  },
  {
   "cell_type": "markdown",
   "metadata": {},
   "source": [
    "Set wind in free atmosphere (FA) wind to a constant value in the sponge layer ($z>1536~\\mathrm{m}$). By this, any thermal wind in the FA is effectively ignored and the geostrophic wind speed is that of the reference height.\n"
   ]
  },
  {
   "cell_type": "code",
   "execution_count": null,
   "metadata": {},
   "outputs": [],
   "source": [
    "damping_height = job.p3d[\"initialization_parameters\"][\"rayleigh_damping_height\"]\n",
    "era5_atm[\"u_z\"] = era5_atm[\"u_z\"].where(\n",
    "    era5_atm[\"height\"] < damping_height,\n",
    "    other=era5_atm[\"u_z\"].sel(height=damping_height, method=\"nearest\"),\n",
    ")\n",
    "era5_atm[\"v_z\"] = era5_atm[\"v_z\"].where(\n",
    "    era5_atm[\"height\"] < damping_height,\n",
    "    other=era5_atm[\"v_z\"].sel(height=damping_height, method=\"nearest\"),\n",
    ")\n",
    "era5_atm[\"u_g_z\"] = era5_atm[\"u_g_z\"].where(\n",
    "    era5_atm[\"height\"] < damping_height,\n",
    "    other=era5_atm[\"u_g_z\"].sel(height=damping_height, method=\"nearest\"),\n",
    ")\n",
    "era5_atm[\"v_g_z\"] = era5_atm[\"u_g_z\"].where(\n",
    "    era5_atm[\"height\"] < damping_height,\n",
    "    other=era5_atm[\"u_g_z\"].sel(height=damping_height, method=\"nearest\"),\n",
    ")"
   ]
  },
  {
   "cell_type": "markdown",
   "metadata": {},
   "source": [
    "Instead of directly assigning the wind components, we want to rotate them such that the average volume flow is appoximately x-directional. Average horizontal wind velocity at height levels needs to be computed before spatiotemporal averaging. Thus, we first need to compute the mean volume flow direction for every column. After this, we compute the average wind spiral, i.e. the angle to volume flow (x-axis) by height. We later use this spiral to rotate the mean geostrophic wind speed along the column to obtain final wind vectors at height levels.\n"
   ]
  },
  {
   "cell_type": "code",
   "execution_count": null,
   "metadata": {},
   "outputs": [],
   "source": [
    "era5_atm[\"wspeed\"] = np.sqrt(era5_atm.u_z**2 + era5_atm.v_z**2).mean(\n",
    "    dim=(\"time\", \"longitude\", \"latitude\")\n",
    ")\n",
    "era5_atm[\"wspeed_g\"] = np.sqrt(era5_atm.u_g_z**2 + era5_atm.v_g_z**2).mean(\n",
    "    dim=(\"time\", \"longitude\", \"latitude\")\n",
    ")\n",
    "\n",
    "# volume flow direction\n",
    "era5_atm[\"vflow_dir\"] = np.arctan2(\n",
    "    era5_atm.v_z.where(era5_atm[\"height\"] < damping_height).mean(dim=\"height\"),\n",
    "    era5_atm.u_z.where(era5_atm[\"height\"] < damping_height).mean(dim=\"height\"),\n",
    ")\n",
    "\n",
    "era5_atm[\"u_rot\"] = era5_atm.u_z * np.cos(-era5_atm.vflow_dir) - era5_atm.v_z * np.sin(\n",
    "    -era5_atm.vflow_dir\n",
    ")\n",
    "era5_atm[\"v_rot\"] = era5_atm.u_z * np.sin(-era5_atm.vflow_dir) + era5_atm.v_z * np.cos(\n",
    "    -era5_atm.vflow_dir\n",
    ")\n",
    "\n",
    "# wind direction at height levels with respect to mean volume flow\n",
    "era5_atm[\"vflow_dir_rot\"] = np.arctan2(era5_atm.v_rot, era5_atm.u_rot).mean(\n",
    "    dim=[\"time\", \"longitude\", \"latitude\"]\n",
    ")"
   ]
  },
  {
   "cell_type": "markdown",
   "metadata": {},
   "source": [
    "Finally, rotate the mean wind speed along the spiral and store.\n"
   ]
  },
  {
   "cell_type": "code",
   "execution_count": null,
   "metadata": {},
   "outputs": [],
   "source": [
    "dynamic_driver.ds[\"ls_forcing_ug\"] = (\n",
    "    (\"time\", \"z\"),\n",
    "    np.zeros((dynamic_driver.ds.time.size, dynamic_driver.ds.z.size), dtype=np.float32),\n",
    ")\n",
    "dynamic_driver.ds[\"ls_forcing_vg\"] = (\n",
    "    (\"time\", \"z\"),\n",
    "    np.zeros((dynamic_driver.ds.time.size, dynamic_driver.ds.z.size), dtype=np.float32),\n",
    ")\n",
    "dynamic_driver.ds[\"ls_forcing_ug\"][:] = (\n",
    "    era5_atm.wspeed_g * np.cos(-era5_atm.vflow_dir.mean())\n",
    ").data\n",
    "dynamic_driver.ds[\"ls_forcing_vg\"][:] = (\n",
    "    era5_atm.wspeed_g * np.sin(-era5_atm.vflow_dir.mean())\n",
    ").data\n",
    "\n",
    "dynamic_driver.ds[\"init_atmosphere_u\"] = dynamic_driver.ds[\"ls_forcing_ug\"].isel(time=0)\n",
    "dynamic_driver.ds[\"init_atmosphere_v\"] = dynamic_driver.ds[\"ls_forcing_vg\"].isel(time=0)\n",
    "dynamic_driver.ds[\"init_atmosphere_pt\"] = (\n",
    "    (\"z\",),\n",
    "    era5_atm.pt_z.mean(dim=(\"time\", \"longitude\", \"latitude\")).data,\n",
    ")\n",
    "dynamic_driver.ds[\"init_atmosphere_qv\"] = (\n",
    "    (\"z\",),\n",
    "    era5_atm.q_z.mean(dim=(\"time\", \"longitude\", \"latitude\")).data,\n",
    ")"
   ]
  },
  {
   "cell_type": "code",
   "execution_count": null,
   "metadata": {},
   "outputs": [],
   "source": [
    "# dynamic_driver.ds[\"init_atmosphere_u\"] = dynamic_driver.ds.init_atmosphere_u[-1].data\n",
    "# dynamic_driver.ds[\"init_atmosphere_v\"] = dynamic_driver.ds.init_atmosphere_v[-1].data\n",
    "# dynamic_driver.ds[\"init_atmosphere_u\"] = dynamic_driver.ds[\"init_atmosphere_u\"].where(\n",
    "#   dynamic_driver.ds.z > 500.0,\n",
    "#    dynamic_driver.ds[\"init_atmosphere_u\"] * dynamic_driver.ds.z / 500.0,\n",
    "# )\n",
    "# dynamic_driver.ds[\"init_atmosphere_v\"] = dynamic_driver.ds[\"init_atmosphere_v\"].where(\n",
    "#    dynamic_driver.ds.z > 500.0,\n",
    "#    dynamic_driver.ds[\"init_atmosphere_v\"] * dynamic_driver.ds.z / 500.0,\n",
    "# )"
   ]
  },
  {
   "cell_type": "code",
   "execution_count": null,
   "metadata": {},
   "outputs": [],
   "source": [
    "print(\n",
    "    f\"Mean profile: {dynamic_driver.ds.init_atmosphere_u.mean():.3f} v={dynamic_driver.ds.init_atmosphere_v.mean():.3f}\"\n",
    ")\n",
    "print(\n",
    "    f\"Model top BC: {dynamic_driver.ds.init_atmosphere_u[-1]:.3f} v={dynamic_driver.ds.init_atmosphere_v[-1]:.3f}\"\n",
    ")\n",
    "print(\n",
    "    f\"Rotation angle at top: {np.rad2deg(np.arctan2(-dynamic_driver.ds.init_atmosphere_v[-1],dynamic_driver.ds.init_atmosphere_u[-1])):.1f} deg\"\n",
    ")"
   ]
  },
  {
   "cell_type": "markdown",
   "metadata": {},
   "source": [
    "To expedite the boundary layer development, neutralise (mix) the initial temperature profile below 768 m.\n"
   ]
  },
  {
   "cell_type": "code",
   "execution_count": null,
   "metadata": {},
   "outputs": [],
   "source": [
    "# dynamic_driver.ds[\"init_atmosphere_pt\"] = dynamic_driver.ds[\"init_atmosphere_pt\"].where(\n",
    "#    dynamic_driver.ds.z > 500.0,\n",
    "#    dynamic_driver.ds[\"init_atmosphere_pt\"].sel(z=500.0, method=\"nearest\"),\n",
    "# )\n",
    "# dynamic_driver.ds[\"init_atmosphere_pt\"] = dynamic_driver.ds[\"init_atmosphere_pt\"].where(\n",
    "#    dynamic_driver.ds.z > 1500.0,\n",
    "#    dynamic_driver.ds[\"init_atmosphere_pt\"].sel(z=1500.0, method=\"nearest\"),\n",
    "# )"
   ]
  },
  {
   "cell_type": "code",
   "execution_count": null,
   "metadata": {},
   "outputs": [],
   "source": [
    "# pt_bl_mean = dynamic_driver.ds[\"init_atmosphere_pt\"].where(dynamic_driver.ds.z <= 512.0).mean()\n",
    "# dynamic_driver.ds[\"init_atmosphere_pt\"] = dynamic_driver.ds[\"init_atmosphere_pt\"].where(\n",
    "#    dynamic_driver.ds.z > 512.0,\n",
    "#    pt_bl_mean,\n",
    "# )"
   ]
  },
  {
   "cell_type": "markdown",
   "metadata": {},
   "source": [
    "To limit BLH growth, decrease lapse rate to 4 K km^-1 above reference height.\n"
   ]
  },
  {
   "cell_type": "code",
   "execution_count": null,
   "metadata": {},
   "outputs": [],
   "source": [
    "h_ref = 768.0\n",
    "dynamic_driver.ds[\"init_atmosphere_pt\"] = dynamic_driver.ds[\"init_atmosphere_pt\"].where(\n",
    "    dynamic_driver.ds[\"z\"] < h_ref,\n",
    "    other=dynamic_driver.ds[\"init_atmosphere_pt\"].sel(z=h_ref, method=\"nearest\")\n",
    "    + (-4 + 9.8) * (dynamic_driver.ds[\"z\"] - h_ref) / 1000.0,\n",
    ")"
   ]
  },
  {
   "cell_type": "markdown",
   "metadata": {},
   "source": [
    "We'll set the initial humidity in the low levels to a value above the boundary layer to simulate relatively dry boundary layer.\n"
   ]
  },
  {
   "cell_type": "code",
   "execution_count": null,
   "metadata": {},
   "outputs": [],
   "source": [
    "# dynamic_driver.ds[\"init_atmosphere_qv\"] = dynamic_driver.ds[\"init_atmosphere_qv\"].where(\n",
    "#    dynamic_driver.ds.z > 1500.0,\n",
    "#    dynamic_driver.ds[\"init_atmosphere_qv\"].sel(z=1500.0, method=\"nearest\"),\n",
    "# )"
   ]
  },
  {
   "cell_type": "code",
   "execution_count": null,
   "metadata": {},
   "outputs": [],
   "source": [
    "dynamic_driver.ds[\"init_atmosphere_qv\"][:] = dynamic_driver.ds[\n",
    "    \"init_atmosphere_qv\"\n",
    "].isel(z=-1)"
   ]
  },
  {
   "cell_type": "markdown",
   "metadata": {},
   "source": [
    "## Radiative forcing\n",
    "\n",
    "For radiative forcing, i.e. the incoming shortwave and longwave radiation, we use the seme principle as before. However, we do not select a single hour of day, but rather construct a representative diurnal from 00Z to 00Z the next day. This is not as straightforward, ad the hour angle depends on longitude, hence the data cannot be directly averaged over the AOI. Instead, we first transform the temporal dimension into hour angle $H=2\\pi\\left(\\frac{t_{UTC}}{86400~\\mathrm{s}}\\right) + \\phi - \\pi$, where $\\phi$ is the longitude (in radians). As the hour angle as a function of solar time is simply $H=2\\pi\\left(\\frac{t_{solar}}{86400~\\mathrm{s}}\\right)- \\pi$, solving for $t_{solar}$ yields $t_{solar}=\\frac{\\pi t_{UTC} + 43200 \\phi}{\\pi}$. As the reference longitude in our simulation is 0, $t_{local}=t_{solar}$ for us.\n"
   ]
  },
  {
   "cell_type": "code",
   "execution_count": null,
   "metadata": {},
   "outputs": [],
   "source": [
    "dynamic_driver = set_radiation_to_dynamic(\n",
    "    era5_surf,\n",
    "    dynamic_driver,\n",
    "    time_offset=3 * 3600,\n",
    ")"
   ]
  },
  {
   "cell_type": "markdown",
   "metadata": {},
   "source": [
    "### Surface pressure\n",
    "\n",
    "For surface pressure, we use constant reference pressure 1000 hPa.\n"
   ]
  },
  {
   "cell_type": "code",
   "execution_count": null,
   "metadata": {},
   "outputs": [],
   "source": [
    "dynamic_driver = set_surface_pressure_to_dynamic(dynamic_driver, p0=1e5)"
   ]
  },
  {
   "cell_type": "markdown",
   "metadata": {},
   "source": [
    "## Write job files to storage\n"
   ]
  },
  {
   "cell_type": "code",
   "execution_count": null,
   "metadata": {},
   "outputs": [],
   "source": [
    "job.p3d[\"runtime_parameters\"][\"end_time\"] = job.p3d[\"runtime_parameters\"][\n",
    "    \"skip_time_do2d_yz\"\n",
    "]\n",
    "job.p3dr[\"initialization_parameters\"][\"initializing_actions\"] = \"read_restart_data\""
   ]
  },
  {
   "cell_type": "code",
   "execution_count": null,
   "metadata": {},
   "outputs": [],
   "source": [
    "dynamic_driver.ds[\"init_atmosphere_w\"] = (\n",
    "    (\"zw\",),\n",
    "    np.full(dynamic_driver.ds.zw.size, 0.0),\n",
    ")"
   ]
  },
  {
   "cell_type": "code",
   "execution_count": null,
   "metadata": {},
   "outputs": [],
   "source": [
    "for var in dynamic_driver.ds.variables:\n",
    "    dynamic_driver.ds[var].attrs[\"lod\"] = 1"
   ]
  },
  {
   "cell_type": "code",
   "execution_count": null,
   "metadata": {},
   "outputs": [],
   "source": [
    "job.register_driver(\"static\", static_driver)\n",
    "job.register_driver(\"dynamic\", dynamic_driver)"
   ]
  },
  {
   "cell_type": "code",
   "execution_count": null,
   "metadata": {},
   "outputs": [],
   "source": [
    "job.write()"
   ]
  }
 ],
 "metadata": {
  "kernelspec": {
   "display_name": "slurb_experiments",
   "language": "python",
   "name": "python3"
  },
  "language_info": {
   "codemirror_mode": {
    "name": "ipython",
    "version": 3
   },
   "file_extension": ".py",
   "mimetype": "text/x-python",
   "name": "python",
   "nbconvert_exporter": "python",
   "pygments_lexer": "ipython3",
   "version": "3.12.3"
  }
 },
 "nbformat": 4,
 "nbformat_minor": 2
}
