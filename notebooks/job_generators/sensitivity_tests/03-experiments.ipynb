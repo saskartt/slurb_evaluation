{
 "cells": [
  {
   "cell_type": "markdown",
   "metadata": {},
   "source": [
    "# Job generator for sensitivity tests\n"
   ]
  },
  {
   "cell_type": "code",
   "execution_count": null,
   "metadata": {},
   "outputs": [],
   "source": [
    "%load_ext dotenv\n",
    "%dotenv\n",
    "%load_ext autoreload\n",
    "%autoreload 2"
   ]
  },
  {
   "cell_type": "code",
   "execution_count": null,
   "metadata": {},
   "outputs": [],
   "source": [
    "from pathlib import Path\n",
    "from src.config import get_config, get_rng, get_dask_cluster\n",
    "from typing import List\n",
    "\n",
    "config = get_config()\n",
    "cluster, client = get_dask_cluster(config)"
   ]
  },
  {
   "cell_type": "code",
   "execution_count": null,
   "metadata": {},
   "outputs": [],
   "source": [
    "import xarray as xr\n",
    "import numpy as np\n",
    "\n",
    "from src.job_generation import (\n",
    "    Job,\n",
    "    read_namelist,\n",
    "    Driver,\n",
    "    ExperimentCatalog,\n",
    "    set_radiation_to_dynamic,\n",
    "    set_initial_soil_conditions_from_precursor,\n",
    "    set_slurb_deep_soil_temperature_from_dynamic,\n",
    "    set_spinup_parameters_from_precursor,\n",
    "    set_surface_pressure_to_dynamic,\n",
    "    get_nest_mask,\n",
    ")"
   ]
  },
  {
   "cell_type": "code",
   "execution_count": null,
   "metadata": {},
   "outputs": [],
   "source": [
    "rng = get_rng(config)  # Ensure reproducibility"
   ]
  },
  {
   "cell_type": "code",
   "execution_count": null,
   "metadata": {},
   "outputs": [],
   "source": [
    "jobs: List[Job] = []"
   ]
  },
  {
   "cell_type": "markdown",
   "metadata": {},
   "source": [
    "## Experiment catalog\n"
   ]
  },
  {
   "cell_type": "code",
   "execution_count": null,
   "metadata": {},
   "outputs": [],
   "source": [
    "experiments = ExperimentCatalog()\n",
    "experiments.read_config(Path(config.path.experiments.sensitivity) / \"experiments.yml\")"
   ]
  },
  {
   "cell_type": "markdown",
   "metadata": {},
   "source": [
    "## Prepare baseline scenario\n"
   ]
  },
  {
   "cell_type": "code",
   "execution_count": null,
   "metadata": {},
   "outputs": [],
   "source": [
    "experiments.baseline = Job(\"slurb_s_base\")\n",
    "experiments.baseline.p3d = read_namelist(\n",
    "    Path(config.path.experiments.sensitivity) / \"base_p3d.yml\"\n",
    ")\n",
    "experiments.baseline.p3dr = read_namelist(\n",
    "    Path(config.path.experiments.sensitivity) / \"base_p3d.yml\"\n",
    ")\n",
    "experiments.baseline.p3dr[\"initialization_parameters\"][\"initialization_actions\"] = (\n",
    "    \"read_restart_data\"\n",
    ")"
   ]
  },
  {
   "cell_type": "code",
   "execution_count": null,
   "metadata": {},
   "outputs": [],
   "source": [
    "experiments.baseline_turbulent_inflow = Path(\n",
    "    \"../../slurb_s_base/INPUT/slurb_s_base_dynamic\"\n",
    ")"
   ]
  },
  {
   "cell_type": "code",
   "execution_count": null,
   "metadata": {},
   "outputs": [],
   "source": [
    "experiments.baseline.register_driver(\"slurb\", Driver())"
   ]
  },
  {
   "cell_type": "code",
   "execution_count": null,
   "metadata": {},
   "outputs": [],
   "source": [
    "experiments.baseline.drivers[\"slurb\"].set_grid(\"s\", vertical=False)\n",
    "experiments.baseline.drivers[\"slurb\"].set_attrs(\n",
    "    Path(config.path.experiments.sensitivity) / \"global_attributes.yml\"\n",
    ")\n",
    "experiments.baseline.drivers[\"slurb\"].ds = experiments.baseline.drivers[\n",
    "    \"slurb\"\n",
    "].ds.assign_coords(\n",
    "    nroof_3d=np.arange(1, 5, dtype=np.int8),\n",
    "    nroad_3d=np.arange(1, 5, dtype=np.int8),\n",
    "    nwall_3d=np.arange(1, 5, dtype=np.int8),\n",
    "    nwindow_3d=np.arange(1, 5, dtype=np.int8),\n",
    ")"
   ]
  },
  {
   "cell_type": "markdown",
   "metadata": {},
   "source": [
    "Dynamic driver is used for the soil initial temperature and moisture from the precursor. It is later also used for the inflow boundary condition.\n"
   ]
  },
  {
   "cell_type": "code",
   "execution_count": null,
   "metadata": {},
   "outputs": [],
   "source": [
    "experiments.baseline.register_driver(\"dynamic\", Driver())\n",
    "experiments.baseline.drivers[\"dynamic\"].set_grid(\"s\", vertical=False)\n",
    "experiments.baseline.drivers[\"dynamic\"].set_zsoil()"
   ]
  },
  {
   "cell_type": "markdown",
   "metadata": {},
   "source": [
    "### Prepare the baseline SLUrb driver\n",
    "\n",
    "The baseline SLUrb driver is constructed from a YAML config file.\n"
   ]
  },
  {
   "cell_type": "code",
   "execution_count": null,
   "metadata": {},
   "outputs": [],
   "source": [
    "experiments.baseline.driver_from_config(\n",
    "    Path(config.path.experiments.sensitivity) / \"base_slurb_driver.yml\", \"slurb\"\n",
    ")"
   ]
  },
  {
   "cell_type": "code",
   "execution_count": null,
   "metadata": {},
   "outputs": [],
   "source": [
    "experiments.baseline.drivers[\"slurb\"]"
   ]
  },
  {
   "cell_type": "markdown",
   "metadata": {},
   "source": [
    "Cut target urban area from the SLUrb driver. The urban surface covers a 1.5 km x 1.5 km patch in the domain. Covering the whole domain would drastically increase the surface drag compared to the precursor, causing issues with mass balance. A smaller patch also prevents unvanted larger scale feedbacks, keeping the general forcing comparable accross the cases.\n"
   ]
  },
  {
   "cell_type": "code",
   "execution_count": null,
   "metadata": {},
   "outputs": [],
   "source": [
    "urban_mask = get_nest_mask(\n",
    "    experiments.baseline.drivers[\"slurb\"].ds[\"urban_fraction\"],\n",
    "    offset_x=2368.0,\n",
    "    offset_y=1280.0,\n",
    "    gridpoints_x=96,\n",
    "    gridpoints_y=96,\n",
    ")\n",
    "for var_name, dataarray in experiments.baseline.drivers[\"slurb\"].ds.data_vars.items():\n",
    "    if np.issubdtype(dataarray.dtype, np.floating):\n",
    "        experiments.baseline.drivers[\"slurb\"].ds[var_name] = dataarray.where(\n",
    "            urban_mask, other=-9999.0\n",
    "        )\n",
    "        dataarray.attrs[\"_FillValue\"] = -9999.0\n",
    "    elif np.issubdtype(dataarray.dtype, np.integer):\n",
    "        experiments.baseline.drivers[\"slurb\"].ds[var_name] = dataarray.where(\n",
    "            urban_mask, other=-127\n",
    "        )\n",
    "        dataarray.attrs[\"_FillValue\"] = -127\n",
    "# Urban fraction cannot be fill value\n",
    "experiments.baseline.drivers[\"slurb\"].ds[\"urban_fraction\"] = (\n",
    "    experiments.baseline.drivers[\"slurb\"]\n",
    "    .ds[\"urban_fraction\"]\n",
    "    .where(experiments.baseline.drivers[\"slurb\"].ds[\"urban_fraction\"] >= 0.0, other=0.0)\n",
    ")"
   ]
  },
  {
   "cell_type": "markdown",
   "metadata": {},
   "source": [
    "### Baseline static driver\n",
    "\n",
    "This is reused from the precursor run, with the exception of setting vegetation type to short grass for the urban area and resetting the roughness back to default.\n"
   ]
  },
  {
   "cell_type": "code",
   "execution_count": null,
   "metadata": {},
   "outputs": [],
   "source": [
    "experiments.baseline.register_driver(\"static\", Driver())\n",
    "experiments.baseline.drivers[\"static\"].ds = xr.open_dataset(\n",
    "    Path(config.path.data.jobs)\n",
    "    / \"slurb_pre_default\"\n",
    "    / \"INPUT\"\n",
    "    / \"slurb_pre_default_static\"\n",
    ")\n",
    "experiments.baseline.drivers[\"static\"].set_attrs(\n",
    "    Path(config.path.experiments.comparison) / \"global_attributes.yml\"\n",
    ")\n",
    "experiments.baseline.drivers[\"static\"].ds[\"vegetation_type\"] = (\n",
    "    experiments.baseline.drivers[\"static\"]\n",
    "    .ds[\"vegetation_type\"]\n",
    "    .where(~urban_mask, other=3)\n",
    ")\n",
    "experiments.baseline.drivers[\"static\"].ds = experiments.baseline.drivers[\n",
    "    \"static\"\n",
    "].ds.drop_vars([\"vegetation_pars\", \"nvegetation_pars\", \"zt\"], errors=\"ignore\")\n",
    "# I don't know why the byte types get casted to into floats when reading the input, but recast them here\n",
    "int_vars = (\"pavement_type\", \"soil_type\", \"vegetation_type\", \"water_type\")\n",
    "experiments.baseline.drivers[\"static\"].ds[\"pavement_type\"][:] = -127\n",
    "experiments.baseline.drivers[\"static\"].ds[\"water_type\"][:] = -127\n",
    "for var in int_vars:\n",
    "    experiments.baseline.drivers[\"static\"].ds[var] = (\n",
    "        experiments.baseline.drivers[\"static\"].ds[var].astype(np.int8)\n",
    "    )"
   ]
  },
  {
   "cell_type": "markdown",
   "metadata": {},
   "source": [
    "### Turbulent inflow\n"
   ]
  },
  {
   "cell_type": "code",
   "execution_count": null,
   "metadata": {},
   "outputs": [],
   "source": [
    "experiments.baseline.drivers[\"dynamic\"].set_grid(\"uvws\", vertical=True)\n",
    "experiments.baseline.drivers[\"dynamic\"]"
   ]
  },
  {
   "cell_type": "code",
   "execution_count": null,
   "metadata": {},
   "outputs": [],
   "source": [
    "experiments.baseline.set_turbulent_inflow(\n",
    "    inflow_source_file=Path(config.path.data.jobs)\n",
    "    / \"slurb_pre_default\"\n",
    "    / \"OUTPUT\"\n",
    "    / \"slurb_pre_default_yz.001.nc\",\n",
    "    init_source_file=Path(config.path.data.jobs)\n",
    "    / \"slurb_pre_default\"\n",
    "    / \"OUTPUT\"\n",
    "    / \"slurb_pre_default_3d.001.nc\",\n",
    "    dynamic_source_file=Path(config.path.data.jobs)\n",
    "    / \"slurb_pre_default\"\n",
    "    / \"INPUT\"\n",
    "    / \"slurb_pre_default_dynamic\",\n",
    ")"
   ]
  },
  {
   "cell_type": "code",
   "execution_count": null,
   "metadata": {},
   "outputs": [],
   "source": [
    "experiments.baseline.drivers[\"dynamic\"]"
   ]
  },
  {
   "cell_type": "markdown",
   "metadata": {},
   "source": [
    "### Initial soil temperature and moisture\n",
    "\n",
    "These are averaged from the precursor run after sampled for the corresponding vegetation type used in the main run.\n"
   ]
  },
  {
   "cell_type": "code",
   "execution_count": null,
   "metadata": {},
   "outputs": [],
   "source": [
    "pre_3d = xr.open_dataset(\n",
    "    Path(config.path.data.jobs)\n",
    "    / \"slurb_pre_default\"\n",
    "    / \"OUTPUT\"\n",
    "    / \"slurb_pre_default_3d.001.nc\",\n",
    "    decode_times=False,\n",
    ")\n",
    "pre_static = xr.open_dataset(\n",
    "    Path(config.path.data.jobs)\n",
    "    / \"slurb_pre_default\"\n",
    "    / \"INPUT\"\n",
    "    / \"slurb_pre_default_static\"\n",
    ")\n",
    "\n",
    "experiments.baseline.drivers[\"dynamic\"] = set_initial_soil_conditions_from_precursor(\n",
    "    pre_3d,\n",
    "    pre_static[\"vegetation_type\"],\n",
    "    experiments.baseline.drivers[\"dynamic\"],\n",
    "    experiments.baseline.drivers[\"static\"].ds[\"vegetation_type\"],\n",
    ")"
   ]
  },
  {
   "cell_type": "code",
   "execution_count": null,
   "metadata": {},
   "outputs": [],
   "source": [
    "# Set corresponding slurb deep soil temp\n",
    "experiments.baseline.drivers[\"slurb\"] = set_slurb_deep_soil_temperature_from_dynamic(\n",
    "    experiments.baseline.drivers[\"slurb\"],\n",
    "    experiments.baseline.drivers[\"dynamic\"],\n",
    ")"
   ]
  },
  {
   "cell_type": "markdown",
   "metadata": {},
   "source": [
    "### Spinup mean temperature and amplitude\n",
    "\n",
    "Quantile difference is used for amplitude for smoothing.\n"
   ]
  },
  {
   "cell_type": "code",
   "execution_count": null,
   "metadata": {},
   "outputs": [],
   "source": [
    "pre_pr = xr.open_dataset(\n",
    "    Path(config.path.data.jobs)\n",
    "    / \"slurb_pre_default\"\n",
    "    / \"OUTPUT\"\n",
    "    / \"slurb_pre_default_pr.001.nc\",\n",
    "    decode_times=False,\n",
    ")\n",
    "experiments.baseline.p3d, experiments.baseline.p3dr = (\n",
    "    set_spinup_parameters_from_precursor(\n",
    "        pre_pr, experiments.baseline.p3d, experiments.baseline.p3dr\n",
    "    )\n",
    ")"
   ]
  },
  {
   "cell_type": "markdown",
   "metadata": {},
   "source": [
    "### Radiative forcing\n",
    "\n",
    "This is exactly the same process as for the precursor.\n"
   ]
  },
  {
   "cell_type": "code",
   "execution_count": null,
   "metadata": {},
   "outputs": [],
   "source": [
    "era5_surf_diurnal = xr.open_dataset(\n",
    "    config.path.data.raw + \"era5/era5_march_2013-2022_surf_diurnal.nc\"\n",
    ")\n",
    "experiments.baseline.drivers[\"dynamic\"] = set_radiation_to_dynamic(\n",
    "    era5_surf_diurnal,\n",
    "    experiments.baseline.drivers[\"dynamic\"],\n",
    "    time_offset=3 * 3600,\n",
    ")"
   ]
  },
  {
   "cell_type": "markdown",
   "metadata": {},
   "source": [
    "### Surface pressure\n"
   ]
  },
  {
   "cell_type": "code",
   "execution_count": null,
   "metadata": {},
   "outputs": [],
   "source": [
    "experiments.baseline.drivers[\"dynamic\"] = set_surface_pressure_to_dynamic(\n",
    "    experiments.baseline.drivers[\"dynamic\"], p0=1e5\n",
    ")"
   ]
  },
  {
   "cell_type": "markdown",
   "metadata": {},
   "source": [
    "## Create experiments based on experiment configuration\n"
   ]
  },
  {
   "cell_type": "code",
   "execution_count": null,
   "metadata": {},
   "outputs": [],
   "source": [
    "experiments.baseline.write()"
   ]
  },
  {
   "cell_type": "code",
   "execution_count": null,
   "metadata": {},
   "outputs": [],
   "source": [
    "experiments.generate_experiments()"
   ]
  },
  {
   "cell_type": "code",
   "execution_count": null,
   "metadata": {},
   "outputs": [],
   "source": [
    "for exp in experiments.experiments:\n",
    "    print(exp)"
   ]
  },
  {
   "cell_type": "code",
   "execution_count": null,
   "metadata": {},
   "outputs": [],
   "source": [
    "# Write job file names for usage in batch run script\n",
    "with open(Path(config.path.data.jobs) / \"sensitivity_test_jobs.txt\", \"w\") as job_file:\n",
    "    for exp in experiments.experiments:\n",
    "        job_file.write(exp)\n",
    "        job_file.write(\"\\n\")"
   ]
  }
 ],
 "metadata": {
  "kernelspec": {
   "display_name": "Python [conda env:slurb_experiments] *",
   "language": "python",
   "name": "conda-env-slurb_experiments-py"
  },
  "language_info": {
   "codemirror_mode": {
    "name": "ipython",
    "version": 3
   },
   "file_extension": ".py",
   "mimetype": "text/x-python",
   "name": "python",
   "nbconvert_exporter": "python",
   "pygments_lexer": "ipython3",
   "version": "3.12.3"
  }
 },
 "nbformat": 4,
 "nbformat_minor": 2
}
